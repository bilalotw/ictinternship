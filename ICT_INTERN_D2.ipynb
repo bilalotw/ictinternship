{
  "nbformat": 4,
  "nbformat_minor": 0,
  "metadata": {
    "colab": {
      "provenance": [],
      "authorship_tag": "ABX9TyM1SaNQblq08rjw7Q+kkJ2V",
      "include_colab_link": true
    },
    "kernelspec": {
      "name": "python3",
      "display_name": "Python 3"
    },
    "language_info": {
      "name": "python"
    }
  },
  "cells": [
    {
      "cell_type": "markdown",
      "metadata": {
        "id": "view-in-github",
        "colab_type": "text"
      },
      "source": [
        "<a href=\"https://colab.research.google.com/github/bilalotw/ictinternship/blob/main/ICT_INTERN_D2.ipynb\" target=\"_parent\"><img src=\"https://colab.research.google.com/assets/colab-badge.svg\" alt=\"Open In Colab\"/></a>"
      ]
    },
    {
      "cell_type": "code",
      "execution_count": null,
      "metadata": {
        "colab": {
          "base_uri": "https://localhost:8080/",
          "height": 54
        },
        "id": "487ftw707c4n",
        "outputId": "b2ed370d-56d0-4f69-b229-2f4bf7abb59d"
      },
      "outputs": [
        {
          "output_type": "stream",
          "name": "stdout",
          "text": [
            "25\n"
          ]
        },
        {
          "output_type": "execute_result",
          "data": {
            "text/plain": [
              "'bilal'"
            ],
            "application/vnd.google.colaboratory.intrinsic+json": {
              "type": "string"
            }
          },
          "metadata": {},
          "execution_count": 6
        }
      ],
      "source": [
        "#class\n",
        "class student():\n",
        "  def __init__(self,name,roll_number,mark):\n",
        "    self.name =name\n",
        "    self.roll_number =roll_number\n",
        "    self.mark =mark\n",
        "\n",
        "students1=student('bilal',23,25)\n",
        "print(students1.mark)\n",
        "students1.name"
      ]
    },
    {
      "cell_type": "code",
      "source": [
        "class student():\n",
        "  def __init__(self,name,mark):\n",
        "    self.name =name\n",
        "    self.mark =mark\n",
        "  def result(self):\n",
        "    if self.mark>40:\n",
        "      return 'pass'  \n",
        "    else:\n",
        "      return 'fail'\n",
        "  \n",
        "passed= []\n",
        "fail= []\n",
        "\n",
        "\n",
        "students1=student('bilal',83)\n",
        "students2=student('muhammad',63)\n",
        "students3=student('alfina',33)\n",
        "students4=student('nafl',54)\n",
        "stud_name=[students1,students2,students3,students4]\n",
        "for x in stud_name:\n",
        "  if x.result()=='pass':\n",
        "    passed.append(x.name)\n",
        "  else:\n",
        "     fail.append(x.name) \n",
        "\n",
        "print(fail)\n",
        "print(passed)\n"
      ],
      "metadata": {
        "colab": {
          "base_uri": "https://localhost:8080/"
        },
        "id": "OhmI-EtjFgmM",
        "outputId": "5d762bc5-7692-445a-cf99-258738c2de6c"
      },
      "execution_count": null,
      "outputs": [
        {
          "output_type": "stream",
          "name": "stdout",
          "text": [
            "['alfina']\n",
            "['bilal', 'muhammad', 'nafl']\n"
          ]
        }
      ]
    },
    {
      "cell_type": "code",
      "source": [
        "class Circle:\n",
        "    def __init__(self, radius):\n",
        "        self.radius = radius\n",
        "    def area(self):\n",
        "        return 3.14 * (self.radius ** 2)\n",
        "    def perimeter(self):\n",
        "        return 2 * 3.14 * self.radius\n",
        "r=int(input(\"Enter the radius: \"))\n",
        "r1 = Circle(r)\n",
        "print(\"Area:\", r1.area())\n",
        "print(\"Perimeter:\", r1.perimeter())"
      ],
      "metadata": {
        "colab": {
          "base_uri": "https://localhost:8080/"
        },
        "id": "Y2eJo2T6Fyz3",
        "outputId": "3258bbb0-bab0-405c-fcfc-d7114e060e65"
      },
      "execution_count": null,
      "outputs": [
        {
          "output_type": "stream",
          "name": "stdout",
          "text": [
            "Enter the radius: 5\n",
            "Area: 78.5\n",
            "Perimeter: 31.400000000000002\n"
          ]
        }
      ]
    },
    {
      "cell_type": "code",
      "source": [
        "#polymorphism\n",
        "class Bird:\n",
        "  def intro(self):\n",
        "    \tprint(\"There are many types of birds.\")\n",
        "     \n",
        "  def flight(self):\n",
        "      print(\"Most of the birds can fly but some cannot.\")\n",
        "\n",
        "class sparrow(Bird):\n",
        "    def flight(self):\n",
        "    \t  print(\"Sparrows can fly.\")\n",
        "\n",
        "class ostrich(Bird):\n",
        "      def flight(self):\n",
        "      \tprint(\"Ostriches cannot fly.\")\n",
        "\t\n",
        "obj_bird = Bird()\n",
        "obj_spr = sparrow()\n",
        "obj_ost = ostrich()\n",
        "\n",
        "obj_bird.intro()\n",
        "obj_bird.flight()\n",
        "\n",
        "obj_spr.intro()\n",
        "obj_spr.flight()\n",
        "\n",
        "obj_ost.intro()\n",
        "obj_ost.flight()\n"
      ],
      "metadata": {
        "colab": {
          "base_uri": "https://localhost:8080/"
        },
        "id": "_EQrkdHZeRlU",
        "outputId": "202f1487-8202-4bd6-8a8a-8480d16e9dd0"
      },
      "execution_count": null,
      "outputs": [
        {
          "output_type": "stream",
          "name": "stdout",
          "text": [
            "There are many types of birds.\n",
            "Most of the birds can fly but some cannot.\n",
            "There are many types of birds.\n",
            "Sparrows can fly.\n",
            "There are many types of birds.\n",
            "Ostriches cannot fly.\n"
          ]
        }
      ]
    }
  ]
}