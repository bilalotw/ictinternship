{
  "nbformat": 4,
  "nbformat_minor": 0,
  "metadata": {
    "colab": {
      "provenance": [],
      "authorship_tag": "ABX9TyPQ7basNGnWibfR8z9oWAAQ",
      "include_colab_link": true
    },
    "kernelspec": {
      "name": "python3",
      "display_name": "Python 3"
    },
    "language_info": {
      "name": "python"
    }
  },
  "cells": [
    {
      "cell_type": "markdown",
      "metadata": {
        "id": "view-in-github",
        "colab_type": "text"
      },
      "source": [
        "<a href=\"https://colab.research.google.com/github/bilalotw/ictinternship/blob/main/ICT_INTERN_D2.ipynb\" target=\"_parent\"><img src=\"https://colab.research.google.com/assets/colab-badge.svg\" alt=\"Open In Colab\"/></a>"
      ]
    },
    {
      "cell_type": "code",
      "execution_count": null,
      "metadata": {
        "colab": {
          "base_uri": "https://localhost:8080/",
          "height": 54
        },
        "id": "487ftw707c4n",
        "outputId": "b2ed370d-56d0-4f69-b229-2f4bf7abb59d"
      },
      "outputs": [
        {
          "output_type": "stream",
          "name": "stdout",
          "text": [
            "25\n"
          ]
        },
        {
          "output_type": "execute_result",
          "data": {
            "text/plain": [
              "'bilal'"
            ],
            "application/vnd.google.colaboratory.intrinsic+json": {
              "type": "string"
            }
          },
          "metadata": {},
          "execution_count": 6
        }
      ],
      "source": [
        "#class\n",
        "class student():\n",
        "  def __init__(self,name,roll_number,mark):\n",
        "    self.name =name\n",
        "    self.roll_number =roll_number\n",
        "    self.mark =mark\n",
        "\n",
        "students1=student('bilal',23,25)\n",
        "print(students1.mark)\n",
        "students1.name"
      ]
    },
    {
      "cell_type": "code",
      "source": [
        "class student():\n",
        "  def __init__(self,name,mark):\n",
        "    self.name =name\n",
        "    self.mark =mark\n",
        "  def result(self):\n",
        "    if self.mark>40:\n",
        "      return 'pass'  \n",
        "    else:\n",
        "      return 'fail'\n",
        "  \n",
        "passed= []\n",
        "fail= []\n",
        "\n",
        "\n",
        "students1=student('bilal',83)\n",
        "students2=student('muhammad',63)\n",
        "students3=student('alfina',33)\n",
        "students4=student('nafl',54)\n",
        "stud_name=[students1,students2,students3,students4]\n",
        "for x in stud_name:\n",
        "  if x.result()=='pass':\n",
        "    passed.append(x.name)\n",
        "  else:\n",
        "     fail.append(x.name) \n",
        "\n",
        "print(fail)\n",
        "print(passed)\n"
      ],
      "metadata": {
        "colab": {
          "base_uri": "https://localhost:8080/"
        },
        "id": "OhmI-EtjFgmM",
        "outputId": "5d762bc5-7692-445a-cf99-258738c2de6c"
      },
      "execution_count": null,
      "outputs": [
        {
          "output_type": "stream",
          "name": "stdout",
          "text": [
            "['alfina']\n",
            "['bilal', 'muhammad', 'nafl']\n"
          ]
        }
      ]
    },
    {
      "cell_type": "code",
      "source": [
        "class Circle:\n",
        "    def __init__(self, radius):\n",
        "        self.radius = radius\n",
        "    def area(self):\n",
        "        return 3.14 * (self.radius ** 2)\n",
        "    def perimeter(self):\n",
        "        return 2 * 3.14 * self.radius\n",
        "r=int(input(\"Enter the radius: \"))\n",
        "r1 = Circle(r)\n",
        "print(\"Area:\", r1.area())\n",
        "print(\"Perimeter:\", r1.perimeter())"
      ],
      "metadata": {
        "colab": {
          "base_uri": "https://localhost:8080/"
        },
        "id": "Y2eJo2T6Fyz3",
        "outputId": "3258bbb0-bab0-405c-fcfc-d7114e060e65"
      },
      "execution_count": null,
      "outputs": [
        {
          "output_type": "stream",
          "name": "stdout",
          "text": [
            "Enter the radius: 5\n",
            "Area: 78.5\n",
            "Perimeter: 31.400000000000002\n"
          ]
        }
      ]
    },
    {
      "cell_type": "code",
      "source": [
        "#polymorphism\n",
        "class Bird:\n",
        "  def intro(self):\n",
        "    \tprint(\"There are many types of birds.\")\n",
        "     \n",
        "  def flight(self):\n",
        "      print(\"Most of the birds can fly but some cannot.\")\n",
        "\n",
        "class sparrow(Bird):\n",
        "    def flight(self):\n",
        "    \t  print(\"Sparrows can fly.\")\n",
        "\n",
        "class ostrich(Bird):\n",
        "      def flight(self):\n",
        "      \tprint(\"Ostriches cannot fly.\")\n",
        "\t\n",
        "obj_bird = Bird()\n",
        "obj_spr = sparrow()\n",
        "obj_ost = ostrich()\n",
        "\n",
        "obj_bird.intro()\n",
        "obj_bird.flight()\n",
        "\n",
        "obj_spr.intro()\n",
        "obj_spr.flight()\n",
        "\n",
        "obj_ost.intro()\n",
        "obj_ost.flight()\n"
      ],
      "metadata": {
        "colab": {
          "base_uri": "https://localhost:8080/"
        },
        "id": "_EQrkdHZeRlU",
        "outputId": "202f1487-8202-4bd6-8a8a-8480d16e9dd0"
      },
      "execution_count": null,
      "outputs": [
        {
          "output_type": "stream",
          "name": "stdout",
          "text": [
            "There are many types of birds.\n",
            "Most of the birds can fly but some cannot.\n",
            "There are many types of birds.\n",
            "Sparrows can fly.\n",
            "There are many types of birds.\n",
            "Ostriches cannot fly.\n"
          ]
        }
      ]
    },
    {
      "cell_type": "markdown",
      "source": [
        "**ASSIGNMENT DAY2**"
      ],
      "metadata": {
        "id": "_MWt4Mh4YgMq"
      }
    },
    {
      "cell_type": "code",
      "source": [
        "#QUESTION 1\n",
        "fruits = ['banana', 'orange', 'mango', 'lemon']\n",
        "reversed_fruits = []\n",
        "\n",
        "for i in range(len(fruits)-1, -1, -1):\n",
        "    reversed_fruits.append(fruits[i])\n",
        "\n",
        "print(reversed_fruits)"
      ],
      "metadata": {
        "colab": {
          "base_uri": "https://localhost:8080/"
        },
        "id": "W-JZjSNgYeir",
        "outputId": "fa700ca8-578e-41d0-8fdc-251007ac2096"
      },
      "execution_count": 1,
      "outputs": [
        {
          "output_type": "stream",
          "name": "stdout",
          "text": [
            "['lemon', 'mango', 'orange', 'banana']\n"
          ]
        }
      ]
    },
    {
      "cell_type": "code",
      "source": [
        "#QUESTION 2\n",
        "a = 0\n",
        "b = 1\n",
        "for i in range(10):\n",
        "    print(a, end=\" \")\n",
        "    c = a + b\n",
        "    a = b\n",
        "    b = c"
      ],
      "metadata": {
        "colab": {
          "base_uri": "https://localhost:8080/"
        },
        "id": "_WNv39-OYefJ",
        "outputId": "d2d395e9-4a49-42cf-e58f-78be1d36f408"
      },
      "execution_count": 2,
      "outputs": [
        {
          "output_type": "stream",
          "name": "stdout",
          "text": [
            "0 1 1 2 3 5 8 13 21 34 "
          ]
        }
      ]
    },
    {
      "cell_type": "code",
      "source": [
        "#QUESTION 3\n",
        "def prime(n):\n",
        "    if n < 2:\n",
        "        return False\n",
        "    for i in range(2, n):\n",
        "        if n % i == 0:\n",
        "            return False\n",
        "    return True\n",
        "\n",
        "count = 0\n",
        "for i in range(0, 101):\n",
        "    if prime(i):\n",
        "        print(i)\n",
        "        count += 1\n",
        "\n",
        "print(f\"\\nThere are {count} prime numbers between 0 and 100.\")"
      ],
      "metadata": {
        "colab": {
          "base_uri": "https://localhost:8080/"
        },
        "id": "GCXOSKWgYecR",
        "outputId": "464afc1b-a416-4f98-feb7-8edc2189ceb6"
      },
      "execution_count": 3,
      "outputs": [
        {
          "output_type": "stream",
          "name": "stdout",
          "text": [
            "2\n",
            "3\n",
            "5\n",
            "7\n",
            "11\n",
            "13\n",
            "17\n",
            "19\n",
            "23\n",
            "29\n",
            "31\n",
            "37\n",
            "41\n",
            "43\n",
            "47\n",
            "53\n",
            "59\n",
            "61\n",
            "67\n",
            "71\n",
            "73\n",
            "79\n",
            "83\n",
            "89\n",
            "97\n",
            "\n",
            "There are 25 prime numbers between 0 and 100.\n"
          ]
        }
      ]
    },
    {
      "cell_type": "code",
      "source": [
        "#QUESTION 4\n",
        "num = int(input(\"Enter a number: \"))\n",
        "if num % 2 == 0:\n",
        "    print(num,\"is even number\")\n",
        "    print(\"Square of\", num, \"is\", num**2)\n",
        "else:\n",
        "    print(num,\"is odd number\")\n",
        "    print(\"Cube of\", num, \"is\", num**3)"
      ],
      "metadata": {
        "colab": {
          "base_uri": "https://localhost:8080/"
        },
        "id": "Zf2mXPnZYeZt",
        "outputId": "24f5591f-182b-4fb1-f470-7feb38dc5c1b"
      },
      "execution_count": 4,
      "outputs": [
        {
          "output_type": "stream",
          "name": "stdout",
          "text": [
            "Enter a number: 5\n",
            "5 is odd number\n",
            "Cube of 5 is 125\n"
          ]
        }
      ]
    },
    {
      "cell_type": "code",
      "source": [
        "#QUESTION 5\n",
        "sentence = input(\"Enter a sentence: \")\n",
        "words = sentence.split()\n",
        "longest_word = \"\"\n",
        "for word in words:\n",
        "    if len(word) > len(longest_word):\n",
        "        longest_word = word\n",
        "print(\"The longest word is:\", longest_word)"
      ],
      "metadata": {
        "colab": {
          "base_uri": "https://localhost:8080/"
        },
        "id": "7QIMcLLsYeW-",
        "outputId": "26113fcd-12c8-4002-c018-3597d168e5c5"
      },
      "execution_count": 5,
      "outputs": [
        {
          "output_type": "stream",
          "name": "stdout",
          "text": [
            "Enter a sentence: HELLO MOTO\n",
            "The longest word is: HELLO\n"
          ]
        }
      ]
    },
    {
      "cell_type": "code",
      "source": [
        "#QUESTION 6\n",
        "sum = 0\n",
        "count = 0\n",
        "while count < 5:\n",
        "    num = float(input(\"Enter number: \"))\n",
        "    sum += num\n",
        "    count += 1\n",
        "average = sum / 5\n",
        "print(\"The average of 5 numbers is: \", average)"
      ],
      "metadata": {
        "colab": {
          "base_uri": "https://localhost:8080/"
        },
        "id": "mzyDoRsZYeUO",
        "outputId": "c396b0d5-fd30-4556-b9c9-f1a0f7dc7587"
      },
      "execution_count": 6,
      "outputs": [
        {
          "output_type": "stream",
          "name": "stdout",
          "text": [
            "Enter number: 57\n",
            "Enter number: 42\n",
            "Enter number: 32\n",
            "Enter number: 22\n",
            "Enter number: 88\n",
            "The average of 5 numbers is:  48.2\n"
          ]
        }
      ]
    },
    {
      "cell_type": "code",
      "source": [
        "#QUESTION 7\n",
        "n = int(input(\"Enter a number:\"))\n",
        "tot = 0\n",
        "while(n > 0):\n",
        "    dig = n % 10\n",
        "    tot = tot + dig\n",
        "    n = n // 10\n",
        "print(\"The total sum of digits of the given number is:\", tot)"
      ],
      "metadata": {
        "colab": {
          "base_uri": "https://localhost:8080/"
        },
        "id": "JXIEuoabYeRY",
        "outputId": "6dc01a40-1cb7-4216-f3ca-a82cab478267"
      },
      "execution_count": 7,
      "outputs": [
        {
          "output_type": "stream",
          "name": "stdout",
          "text": [
            "Enter a number:555\n",
            "The total sum of digits of the given number is: 15\n"
          ]
        }
      ]
    },
    {
      "cell_type": "code",
      "source": [
        "#QUESTION 8\n",
        "principal = float(input(\"Enter the principal value: \"))\n",
        "rate = float(input(\"Enter the rate of interest: \"))\n",
        "years = int(input(\"Enter the number of years: \"))\n",
        "\n",
        "for year in range(1, years+1):\n",
        "    interest = principal * rate * year\n",
        "    amount = principal + interest\n",
        "    print(f\"Year :\",year)\n",
        "    print(f\"Interest = \",interest)\n",
        "    print(f\"Amount = \",amount)"
      ],
      "metadata": {
        "colab": {
          "base_uri": "https://localhost:8080/"
        },
        "id": "wC_OA12nYeOo",
        "outputId": "2114ddad-03dc-4809-93be-8c548c5759f9"
      },
      "execution_count": 8,
      "outputs": [
        {
          "output_type": "stream",
          "name": "stdout",
          "text": [
            "Enter the principal value: 56\n",
            "Enter the rate of interest: 5\n",
            "Enter the number of years: 1\n",
            "Year : 1\n",
            "Interest =  280.0\n",
            "Amount =  336.0\n"
          ]
        }
      ]
    },
    {
      "cell_type": "code",
      "source": [
        "#QUESTION 9\n",
        "year = int(input(\"Enter the of year: \"))\n",
        "if year % 4 == 0:\n",
        "    if year % 100 == 0:\n",
        "        if year % 400 == 0:\n",
        "            print(\"True\")\n",
        "        else:\n",
        "            print(year,\"is not a Leap Year\")\n",
        "    else:\n",
        "        print(year,\"is Leap Year\")\n",
        "else:\n",
        "    print(\"False\")"
      ],
      "metadata": {
        "colab": {
          "base_uri": "https://localhost:8080/"
        },
        "id": "YmDksv0GYeJv",
        "outputId": "5bb98132-e041-40af-bb61-435700d55929"
      },
      "execution_count": 11,
      "outputs": [
        {
          "output_type": "stream",
          "name": "stdout",
          "text": [
            "Enter the of year: 2048\n",
            "2048 is Leap Year\n"
          ]
        }
      ]
    },
    {
      "cell_type": "code",
      "source": [],
      "metadata": {
        "id": "xrvGl9R_Yd-y"
      },
      "execution_count": null,
      "outputs": []
    }
  ]
}