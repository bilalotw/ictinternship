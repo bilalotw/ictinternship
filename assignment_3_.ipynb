{
  "nbformat": 4,
  "nbformat_minor": 0,
  "metadata": {
    "colab": {
      "provenance": [],
      "authorship_tag": "ABX9TyMjsjqexLlliyDzhvJzpeT3",
      "include_colab_link": true
    },
    "kernelspec": {
      "name": "python3",
      "display_name": "Python 3"
    },
    "language_info": {
      "name": "python"
    }
  },
  "cells": [
    {
      "cell_type": "markdown",
      "metadata": {
        "id": "view-in-github",
        "colab_type": "text"
      },
      "source": [
        "<a href=\"https://colab.research.google.com/github/bilalotw/ictinternship/blob/day3/assignment_3_.ipynb\" target=\"_parent\"><img src=\"https://colab.research.google.com/assets/colab-badge.svg\" alt=\"Open In Colab\"/></a>"
      ]
    },
    {
      "cell_type": "code",
      "execution_count": null,
      "metadata": {
        "id": "1zcBG018puMV"
      },
      "outputs": [],
      "source": [
        "import numpy as np\n",
        "import pandas as pd\n",
        "import seaborn as sns\n",
        "import matplotlib.pyplot as plt"
      ]
    },
    {
      "cell_type": "code",
      "source": [
        "data= pd.read_csv('/content/eggs_converted1.csv')\n",
        "data.head()"
      ],
      "metadata": {
        "id": "BskUi-Lue7jO",
        "colab": {
          "base_uri": "https://localhost:8080/",
          "height": 374
        },
        "outputId": "61a55386-22d8-4033-def0-45fe5e695ad5"
      },
      "execution_count": null,
      "outputs": [
        {
          "output_type": "execute_result",
          "data": {
            "text/plain": [
              "                         state   2004-05   2005-06   2006-07   2007-08  \\\n",
              "0  Andaman and Nicobar Islands     530.0     477.0     535.0     622.0   \n",
              "1              Andhra Pradesh#  158040.0  164534.0  159411.0  175884.0   \n",
              "2            Arunachal Pradesh      90.0      73.0      73.0     394.0   \n",
              "3                        Assam    5216.0    5359.0    5350.0    4910.0   \n",
              "4                        Bihar    7894.0   10012.0    9454.0   10707.0   \n",
              "\n",
              "    2008-09   2009-10   2010-11   2011-12   2012-13   2013-14   2014-15  \\\n",
              "0     618.0     657.0     672.0     780.0     741.0    1193.0     861.0   \n",
              "1  183446.0  193958.0  201277.0  212103.0  222974.0  227875.0  130958.0   \n",
              "2     361.0     380.0     407.0      53.0     439.0     400.0     417.0   \n",
              "3    4659.0    4671.0    4707.0    4705.0    4710.0    4717.0    4728.0   \n",
              "4   10740.0   11002.0    7446.0    7552.0    8372.0    9308.0    9845.0   \n",
              "\n",
              "    2015-16   2016-17   2017-18   2018-19   2019-20  \n",
              "0     989.0    1032.0    1074.0    1139.0    1189.0  \n",
              "1  141743.0  158274.0  177776.0  197545.0  219275.0  \n",
              "2     427.0     495.0     550.0     595.0     605.0  \n",
              "3    4740.0    4771.0    4952.0    5015.0    5149.0  \n",
              "4   10021.0   11117.0   12185.0   17633.0   27408.0  "
            ],
            "text/html": [
              "\n",
              "  <div id=\"df-12f063ee-cff0-428e-aafe-c827f2afe5d4\">\n",
              "    <div class=\"colab-df-container\">\n",
              "      <div>\n",
              "<style scoped>\n",
              "    .dataframe tbody tr th:only-of-type {\n",
              "        vertical-align: middle;\n",
              "    }\n",
              "\n",
              "    .dataframe tbody tr th {\n",
              "        vertical-align: top;\n",
              "    }\n",
              "\n",
              "    .dataframe thead th {\n",
              "        text-align: right;\n",
              "    }\n",
              "</style>\n",
              "<table border=\"1\" class=\"dataframe\">\n",
              "  <thead>\n",
              "    <tr style=\"text-align: right;\">\n",
              "      <th></th>\n",
              "      <th>state</th>\n",
              "      <th>2004-05</th>\n",
              "      <th>2005-06</th>\n",
              "      <th>2006-07</th>\n",
              "      <th>2007-08</th>\n",
              "      <th>2008-09</th>\n",
              "      <th>2009-10</th>\n",
              "      <th>2010-11</th>\n",
              "      <th>2011-12</th>\n",
              "      <th>2012-13</th>\n",
              "      <th>2013-14</th>\n",
              "      <th>2014-15</th>\n",
              "      <th>2015-16</th>\n",
              "      <th>2016-17</th>\n",
              "      <th>2017-18</th>\n",
              "      <th>2018-19</th>\n",
              "      <th>2019-20</th>\n",
              "    </tr>\n",
              "  </thead>\n",
              "  <tbody>\n",
              "    <tr>\n",
              "      <th>0</th>\n",
              "      <td>Andaman and Nicobar Islands</td>\n",
              "      <td>530.0</td>\n",
              "      <td>477.0</td>\n",
              "      <td>535.0</td>\n",
              "      <td>622.0</td>\n",
              "      <td>618.0</td>\n",
              "      <td>657.0</td>\n",
              "      <td>672.0</td>\n",
              "      <td>780.0</td>\n",
              "      <td>741.0</td>\n",
              "      <td>1193.0</td>\n",
              "      <td>861.0</td>\n",
              "      <td>989.0</td>\n",
              "      <td>1032.0</td>\n",
              "      <td>1074.0</td>\n",
              "      <td>1139.0</td>\n",
              "      <td>1189.0</td>\n",
              "    </tr>\n",
              "    <tr>\n",
              "      <th>1</th>\n",
              "      <td>Andhra Pradesh#</td>\n",
              "      <td>158040.0</td>\n",
              "      <td>164534.0</td>\n",
              "      <td>159411.0</td>\n",
              "      <td>175884.0</td>\n",
              "      <td>183446.0</td>\n",
              "      <td>193958.0</td>\n",
              "      <td>201277.0</td>\n",
              "      <td>212103.0</td>\n",
              "      <td>222974.0</td>\n",
              "      <td>227875.0</td>\n",
              "      <td>130958.0</td>\n",
              "      <td>141743.0</td>\n",
              "      <td>158274.0</td>\n",
              "      <td>177776.0</td>\n",
              "      <td>197545.0</td>\n",
              "      <td>219275.0</td>\n",
              "    </tr>\n",
              "    <tr>\n",
              "      <th>2</th>\n",
              "      <td>Arunachal Pradesh</td>\n",
              "      <td>90.0</td>\n",
              "      <td>73.0</td>\n",
              "      <td>73.0</td>\n",
              "      <td>394.0</td>\n",
              "      <td>361.0</td>\n",
              "      <td>380.0</td>\n",
              "      <td>407.0</td>\n",
              "      <td>53.0</td>\n",
              "      <td>439.0</td>\n",
              "      <td>400.0</td>\n",
              "      <td>417.0</td>\n",
              "      <td>427.0</td>\n",
              "      <td>495.0</td>\n",
              "      <td>550.0</td>\n",
              "      <td>595.0</td>\n",
              "      <td>605.0</td>\n",
              "    </tr>\n",
              "    <tr>\n",
              "      <th>3</th>\n",
              "      <td>Assam</td>\n",
              "      <td>5216.0</td>\n",
              "      <td>5359.0</td>\n",
              "      <td>5350.0</td>\n",
              "      <td>4910.0</td>\n",
              "      <td>4659.0</td>\n",
              "      <td>4671.0</td>\n",
              "      <td>4707.0</td>\n",
              "      <td>4705.0</td>\n",
              "      <td>4710.0</td>\n",
              "      <td>4717.0</td>\n",
              "      <td>4728.0</td>\n",
              "      <td>4740.0</td>\n",
              "      <td>4771.0</td>\n",
              "      <td>4952.0</td>\n",
              "      <td>5015.0</td>\n",
              "      <td>5149.0</td>\n",
              "    </tr>\n",
              "    <tr>\n",
              "      <th>4</th>\n",
              "      <td>Bihar</td>\n",
              "      <td>7894.0</td>\n",
              "      <td>10012.0</td>\n",
              "      <td>9454.0</td>\n",
              "      <td>10707.0</td>\n",
              "      <td>10740.0</td>\n",
              "      <td>11002.0</td>\n",
              "      <td>7446.0</td>\n",
              "      <td>7552.0</td>\n",
              "      <td>8372.0</td>\n",
              "      <td>9308.0</td>\n",
              "      <td>9845.0</td>\n",
              "      <td>10021.0</td>\n",
              "      <td>11117.0</td>\n",
              "      <td>12185.0</td>\n",
              "      <td>17633.0</td>\n",
              "      <td>27408.0</td>\n",
              "    </tr>\n",
              "  </tbody>\n",
              "</table>\n",
              "</div>\n",
              "      <button class=\"colab-df-convert\" onclick=\"convertToInteractive('df-12f063ee-cff0-428e-aafe-c827f2afe5d4')\"\n",
              "              title=\"Convert this dataframe to an interactive table.\"\n",
              "              style=\"display:none;\">\n",
              "        \n",
              "  <svg xmlns=\"http://www.w3.org/2000/svg\" height=\"24px\"viewBox=\"0 0 24 24\"\n",
              "       width=\"24px\">\n",
              "    <path d=\"M0 0h24v24H0V0z\" fill=\"none\"/>\n",
              "    <path d=\"M18.56 5.44l.94 2.06.94-2.06 2.06-.94-2.06-.94-.94-2.06-.94 2.06-2.06.94zm-11 1L8.5 8.5l.94-2.06 2.06-.94-2.06-.94L8.5 2.5l-.94 2.06-2.06.94zm10 10l.94 2.06.94-2.06 2.06-.94-2.06-.94-.94-2.06-.94 2.06-2.06.94z\"/><path d=\"M17.41 7.96l-1.37-1.37c-.4-.4-.92-.59-1.43-.59-.52 0-1.04.2-1.43.59L10.3 9.45l-7.72 7.72c-.78.78-.78 2.05 0 2.83L4 21.41c.39.39.9.59 1.41.59.51 0 1.02-.2 1.41-.59l7.78-7.78 2.81-2.81c.8-.78.8-2.07 0-2.86zM5.41 20L4 18.59l7.72-7.72 1.47 1.35L5.41 20z\"/>\n",
              "  </svg>\n",
              "      </button>\n",
              "      \n",
              "  <style>\n",
              "    .colab-df-container {\n",
              "      display:flex;\n",
              "      flex-wrap:wrap;\n",
              "      gap: 12px;\n",
              "    }\n",
              "\n",
              "    .colab-df-convert {\n",
              "      background-color: #E8F0FE;\n",
              "      border: none;\n",
              "      border-radius: 50%;\n",
              "      cursor: pointer;\n",
              "      display: none;\n",
              "      fill: #1967D2;\n",
              "      height: 32px;\n",
              "      padding: 0 0 0 0;\n",
              "      width: 32px;\n",
              "    }\n",
              "\n",
              "    .colab-df-convert:hover {\n",
              "      background-color: #E2EBFA;\n",
              "      box-shadow: 0px 1px 2px rgba(60, 64, 67, 0.3), 0px 1px 3px 1px rgba(60, 64, 67, 0.15);\n",
              "      fill: #174EA6;\n",
              "    }\n",
              "\n",
              "    [theme=dark] .colab-df-convert {\n",
              "      background-color: #3B4455;\n",
              "      fill: #D2E3FC;\n",
              "    }\n",
              "\n",
              "    [theme=dark] .colab-df-convert:hover {\n",
              "      background-color: #434B5C;\n",
              "      box-shadow: 0px 1px 3px 1px rgba(0, 0, 0, 0.15);\n",
              "      filter: drop-shadow(0px 1px 2px rgba(0, 0, 0, 0.3));\n",
              "      fill: #FFFFFF;\n",
              "    }\n",
              "  </style>\n",
              "\n",
              "      <script>\n",
              "        const buttonEl =\n",
              "          document.querySelector('#df-12f063ee-cff0-428e-aafe-c827f2afe5d4 button.colab-df-convert');\n",
              "        buttonEl.style.display =\n",
              "          google.colab.kernel.accessAllowed ? 'block' : 'none';\n",
              "\n",
              "        async function convertToInteractive(key) {\n",
              "          const element = document.querySelector('#df-12f063ee-cff0-428e-aafe-c827f2afe5d4');\n",
              "          const dataTable =\n",
              "            await google.colab.kernel.invokeFunction('convertToInteractive',\n",
              "                                                     [key], {});\n",
              "          if (!dataTable) return;\n",
              "\n",
              "          const docLinkHtml = 'Like what you see? Visit the ' +\n",
              "            '<a target=\"_blank\" href=https://colab.research.google.com/notebooks/data_table.ipynb>data table notebook</a>'\n",
              "            + ' to learn more about interactive tables.';\n",
              "          element.innerHTML = '';\n",
              "          dataTable['output_type'] = 'display_data';\n",
              "          await google.colab.output.renderOutput(dataTable, element);\n",
              "          const docLink = document.createElement('div');\n",
              "          docLink.innerHTML = docLinkHtml;\n",
              "          element.appendChild(docLink);\n",
              "        }\n",
              "      </script>\n",
              "    </div>\n",
              "  </div>\n",
              "  "
            ]
          },
          "metadata": {},
          "execution_count": 123
        }
      ]
    },
    {
      "cell_type": "code",
      "source": [
        "data"
      ],
      "metadata": {
        "colab": {
          "base_uri": "https://localhost:8080/",
          "height": 1000
        },
        "id": "Yxi577i1u5q3",
        "outputId": "1e982f19-dd4a-49b5-c6a6-50d71733395d"
      },
      "execution_count": null,
      "outputs": [
        {
          "output_type": "execute_result",
          "data": {
            "text/plain": [
              "                          state   2004-05   2005-06   2006-07   2007-08  \\\n",
              "0   Andaman and Nicobar Islands     530.0     477.0     535.0     622.0   \n",
              "1               Andhra Pradesh#  158040.0  164534.0  159411.0  175884.0   \n",
              "2             Arunachal Pradesh      90.0      73.0      73.0     394.0   \n",
              "3                         Assam    5216.0    5359.0    5350.0    4910.0   \n",
              "4                         Bihar    7894.0   10012.0    9454.0   10707.0   \n",
              "5                    Chandigarh     280.0     280.0     291.0    9184.0   \n",
              "6                  Chhattisgarh    8795.0    8875.0    9216.0     282.0   \n",
              "7          Dadra & Nagar Haveli      50.0      48.0       0.0      70.0   \n",
              "8                   Daman & Diu       9.0      11.0      11.0      19.0   \n",
              "9                         Delhi     264.0     196.0     186.0       1.0   \n",
              "10                          Goa     146.0     146.0     135.0     152.0   \n",
              "11                      Gujarat    5031.0    5775.0    7757.0    8256.0   \n",
              "12                      Haryana   14816.0   15126.0   39596.0   41031.0   \n",
              "13             Himachal Pradesh     811.0     753.0     772.0     843.0   \n",
              "14            Jammu and Kashmir    6105.0    6320.0    6320.0    6682.0   \n",
              "15                    Jharkhand    6980.0    6970.0    7110.0    7130.0   \n",
              "16                    Karnataka   17719.0   18348.0   19498.0   20181.0   \n",
              "17                       Kerala   11974.0   11956.0   11987.0   13831.0   \n",
              "18                  Lakshadweep     120.0     124.0     127.0     128.0   \n",
              "19               Madhya Pradesh    9023.0    9414.0    9518.0    9747.0   \n",
              "20                  Maharashtra   34362.0   35227.0   33950.0   34640.0   \n",
              "21                      Manipur     822.0     835.0     836.0     845.0   \n",
              "22                    Meghalaya     946.0     973.0     978.0     990.0   \n",
              "23                      Mizoram     317.0     326.0     348.0     403.0   \n",
              "24                     Nagaland     755.0     868.0     868.0     802.0   \n",
              "25                       Odisha   12160.0   12787.0   14246.0   15479.0   \n",
              "26                   Puducherry     102.0     105.0     107.0     137.0   \n",
              "27                       Punjab   36800.0   35200.0   37740.0   37914.0   \n",
              "28                    Rajasthan    6932.0    7029.0    6631.0    6730.0   \n",
              "29                       Sikkim     140.0     146.0     144.0     135.0   \n",
              "30                   Tamil Nadu   63948.0   62225.0   80435.0   83937.0   \n",
              "31                    Telangana       NaN       NaN       NaN       NaN   \n",
              "32                      Tripura    1071.0    1100.0    1193.0    1320.0   \n",
              "33                Uttar Pradesh    9018.0    9228.0    9483.0    9814.0   \n",
              "34                  Uttarakhand    1866.0    1673.0    1889.0    1911.0   \n",
              "35                  West Bengal   28877.0   29637.0   30386.0   30542.0   \n",
              "36                    ALL INDIA  452009.0  462307.0  506630.0  535653.0   \n",
              "37                          NaN       NaN       NaN       NaN       NaN   \n",
              "\n",
              "     2008-09   2009-10   2010-11   2011-12   2012-13   2013-14   2014-15  \\\n",
              "0      618.0     657.0     672.0     780.0     741.0    1193.0     861.0   \n",
              "1   183446.0  193958.0  201277.0  212103.0  222974.0  227875.0  130958.0   \n",
              "2      361.0     380.0     407.0      53.0     439.0     400.0     417.0   \n",
              "3     4659.0    4671.0    4707.0    4705.0    4710.0    4717.0    4728.0   \n",
              "4    10740.0   11002.0    7446.0    7552.0    8372.0    9308.0    9845.0   \n",
              "5     9738.0     249.0     180.0     181.0     170.0     173.0     169.0   \n",
              "6      273.0   10520.0   12454.0   12984.0   13704.0   14330.0   14732.0   \n",
              "7       71.0      71.0      70.0      73.0      73.0      73.0      73.0   \n",
              "8       19.0      19.0      19.0      20.0      20.0      13.0      19.0   \n",
              "9        1.0       1.0       1.0       1.0       NaN       NaN       NaN   \n",
              "10     149.0     148.0     149.0     149.0     458.0      60.0      75.0   \n",
              "11   12675.0   12762.0   13269.0   14269.0   14558.0   15551.0   16565.0   \n",
              "12   38150.0   38453.0   39644.0   41142.0   42343.0   43591.0   45790.0   \n",
              "13     977.0    1000.0    1021.0    1050.0    1069.0    1075.0    1084.0   \n",
              "14    7208.0    7242.0    7725.0    6520.0    6715.0    6649.0    4958.0   \n",
              "15    3995.0    3925.0    4153.0    4313.0    4239.0    4445.0    4663.0   \n",
              "16   23688.0   29094.0   30674.0   34699.0   36773.0   41301.0   43968.0   \n",
              "17   15095.0   16330.0   16856.0   17049.0   22375.0   24769.0   25036.0   \n",
              "18     135.0     138.0     138.0     140.0     140.0     129.0     126.0   \n",
              "19    6713.0    7075.0    7577.0    7972.0    8711.0    9671.0   11776.0   \n",
              "20   35502.0   38640.0   42245.0   43861.0   45661.0   48315.0   50792.0   \n",
              "21    1105.0    1119.0    1137.0    1149.0    1162.0    1164.0    1129.0   \n",
              "22     995.0     999.0    1011.0    1021.0    1028.0    1049.0    1057.0   \n",
              "23     411.0     371.0     387.0     349.0     352.0     362.0     377.0   \n",
              "24     832.0     834.0     802.0     704.0     618.0     223.0     353.0   \n",
              "25   19940.0   23193.0   23571.0   23007.0   23230.0   23609.0   19245.0   \n",
              "26     112.0     113.0     114.0     116.0     113.0     113.0     113.0   \n",
              "27   36790.0   32828.0   35449.0   36030.0   37911.0   43376.0   42642.0   \n",
              "28    6449.0    6713.0    6697.0    9605.0   10335.0   11903.0   13202.0   \n",
              "29     137.0     136.0     140.0     146.0     146.0      99.0      58.0   \n",
              "30   88098.0  108476.0  115137.0  118518.0  119334.0  141235.0  159253.0   \n",
              "31       NaN       NaN       NaN       NaN       NaN       NaN  106185.0   \n",
              "32    1388.0    1442.0    1569.0    1650.0    1565.0    1794.0    1979.0   \n",
              "33   10140.0   10596.0   10991.0   16075.0   17074.0   18122.0   20776.0   \n",
              "34    1962.0    2536.0    2614.0    2712.0    3079.0    3370.0    3697.0   \n",
              "35   33056.0   36978.0   39939.0   43433.0   47115.0   47460.0   48136.0   \n",
              "36  555628.0  602671.0  630244.0  664499.0  697307.0  747519.0  784839.0   \n",
              "37       NaN       NaN       NaN       NaN       NaN       NaN       NaN   \n",
              "\n",
              "     2015-16   2016-17   2017-18    2018-19    2019-20  \n",
              "0      989.0    1032.0    1074.0     1139.0     1189.0  \n",
              "1   141743.0  158274.0  177776.0   197545.0   219275.0  \n",
              "2      427.0     495.0     550.0      595.0      605.0  \n",
              "3     4740.0    4771.0    4952.0     5015.0     5149.0  \n",
              "4    10021.0   11117.0   12185.0    17633.0    27408.0  \n",
              "5      167.0     154.0     160.0      164.0      125.0  \n",
              "6    15028.0   16638.0   17718.0    18927.0    20289.0  \n",
              "7       73.0      73.0      73.0        0.0        0.0  \n",
              "8        8.0       4.0       5.0        5.0        5.0  \n",
              "9        0.0       0.0       0.0        0.0        0.0  \n",
              "10     352.0     292.0     299.0      327.0      400.0  \n",
              "11   17216.0   17940.0   17868.0    18544.0    19274.0  \n",
              "12   49133.0   52139.0   55855.0    60577.0    66153.0  \n",
              "13     812.0     959.0     981.0     1007.0     1066.0  \n",
              "14    2309.0    2305.0    2334.0     2349.0     2216.0  \n",
              "15    4833.0    5103.0    5531.0     6379.0     6928.0  \n",
              "16   47660.0   50671.0   55661.0    59994.0    66511.0  \n",
              "17   24425.0   23444.0   23481.0    22906.0    21845.0  \n",
              "18     144.0     147.0     142.0      142.0      153.0  \n",
              "19   14414.0   16940.0   19422.0    21432.0    23794.0  \n",
              "20   52858.0   54774.0   56991.0    59649.0    63713.0  \n",
              "21    1037.0     992.0    1018.0     1053.0     1082.0  \n",
              "22    1064.0    1064.0    1074.0     1090.0     1102.0  \n",
              "23     391.0     408.0     410.0      415.0      433.0  \n",
              "24     465.0     397.0     401.0      375.0      382.0  \n",
              "25   19273.0   19745.0   20622.0    23453.0    23814.0  \n",
              "26     114.0     114.0     114.0      114.0      114.0  \n",
              "27   44218.0   47826.0   52250.0    55909.0    56388.0  \n",
              "28   13853.0   13633.0   14548.0    16616.0    26962.0  \n",
              "29     102.0      68.0      63.0       55.0       48.0  \n",
              "30  161252.0  166824.0  174161.0   188422.0   200216.0  \n",
              "31  112058.0  118186.0  126700.0   136868.0   148055.0  \n",
              "32    2161.0    2294.0    2621.0     2760.0     2950.0  \n",
              "33   21929.0   22889.0   24398.0    26050.0    34049.0  \n",
              "34    3907.0    4119.0    4298.0     4532.0     4786.0  \n",
              "35   60108.0   65536.0   76434.0    85999.0    97350.0  \n",
              "36  829284.0  881370.0  952170.0  1038040.0  1143831.0  \n",
              "37       NaN       NaN       NaN        NaN        NaN  "
            ],
            "text/html": [
              "\n",
              "  <div id=\"df-9da09668-5d4b-42c2-a5ac-156245aa1f8b\">\n",
              "    <div class=\"colab-df-container\">\n",
              "      <div>\n",
              "<style scoped>\n",
              "    .dataframe tbody tr th:only-of-type {\n",
              "        vertical-align: middle;\n",
              "    }\n",
              "\n",
              "    .dataframe tbody tr th {\n",
              "        vertical-align: top;\n",
              "    }\n",
              "\n",
              "    .dataframe thead th {\n",
              "        text-align: right;\n",
              "    }\n",
              "</style>\n",
              "<table border=\"1\" class=\"dataframe\">\n",
              "  <thead>\n",
              "    <tr style=\"text-align: right;\">\n",
              "      <th></th>\n",
              "      <th>state</th>\n",
              "      <th>2004-05</th>\n",
              "      <th>2005-06</th>\n",
              "      <th>2006-07</th>\n",
              "      <th>2007-08</th>\n",
              "      <th>2008-09</th>\n",
              "      <th>2009-10</th>\n",
              "      <th>2010-11</th>\n",
              "      <th>2011-12</th>\n",
              "      <th>2012-13</th>\n",
              "      <th>2013-14</th>\n",
              "      <th>2014-15</th>\n",
              "      <th>2015-16</th>\n",
              "      <th>2016-17</th>\n",
              "      <th>2017-18</th>\n",
              "      <th>2018-19</th>\n",
              "      <th>2019-20</th>\n",
              "    </tr>\n",
              "  </thead>\n",
              "  <tbody>\n",
              "    <tr>\n",
              "      <th>0</th>\n",
              "      <td>Andaman and Nicobar Islands</td>\n",
              "      <td>530.0</td>\n",
              "      <td>477.0</td>\n",
              "      <td>535.0</td>\n",
              "      <td>622.0</td>\n",
              "      <td>618.0</td>\n",
              "      <td>657.0</td>\n",
              "      <td>672.0</td>\n",
              "      <td>780.0</td>\n",
              "      <td>741.0</td>\n",
              "      <td>1193.0</td>\n",
              "      <td>861.0</td>\n",
              "      <td>989.0</td>\n",
              "      <td>1032.0</td>\n",
              "      <td>1074.0</td>\n",
              "      <td>1139.0</td>\n",
              "      <td>1189.0</td>\n",
              "    </tr>\n",
              "    <tr>\n",
              "      <th>1</th>\n",
              "      <td>Andhra Pradesh#</td>\n",
              "      <td>158040.0</td>\n",
              "      <td>164534.0</td>\n",
              "      <td>159411.0</td>\n",
              "      <td>175884.0</td>\n",
              "      <td>183446.0</td>\n",
              "      <td>193958.0</td>\n",
              "      <td>201277.0</td>\n",
              "      <td>212103.0</td>\n",
              "      <td>222974.0</td>\n",
              "      <td>227875.0</td>\n",
              "      <td>130958.0</td>\n",
              "      <td>141743.0</td>\n",
              "      <td>158274.0</td>\n",
              "      <td>177776.0</td>\n",
              "      <td>197545.0</td>\n",
              "      <td>219275.0</td>\n",
              "    </tr>\n",
              "    <tr>\n",
              "      <th>2</th>\n",
              "      <td>Arunachal Pradesh</td>\n",
              "      <td>90.0</td>\n",
              "      <td>73.0</td>\n",
              "      <td>73.0</td>\n",
              "      <td>394.0</td>\n",
              "      <td>361.0</td>\n",
              "      <td>380.0</td>\n",
              "      <td>407.0</td>\n",
              "      <td>53.0</td>\n",
              "      <td>439.0</td>\n",
              "      <td>400.0</td>\n",
              "      <td>417.0</td>\n",
              "      <td>427.0</td>\n",
              "      <td>495.0</td>\n",
              "      <td>550.0</td>\n",
              "      <td>595.0</td>\n",
              "      <td>605.0</td>\n",
              "    </tr>\n",
              "    <tr>\n",
              "      <th>3</th>\n",
              "      <td>Assam</td>\n",
              "      <td>5216.0</td>\n",
              "      <td>5359.0</td>\n",
              "      <td>5350.0</td>\n",
              "      <td>4910.0</td>\n",
              "      <td>4659.0</td>\n",
              "      <td>4671.0</td>\n",
              "      <td>4707.0</td>\n",
              "      <td>4705.0</td>\n",
              "      <td>4710.0</td>\n",
              "      <td>4717.0</td>\n",
              "      <td>4728.0</td>\n",
              "      <td>4740.0</td>\n",
              "      <td>4771.0</td>\n",
              "      <td>4952.0</td>\n",
              "      <td>5015.0</td>\n",
              "      <td>5149.0</td>\n",
              "    </tr>\n",
              "    <tr>\n",
              "      <th>4</th>\n",
              "      <td>Bihar</td>\n",
              "      <td>7894.0</td>\n",
              "      <td>10012.0</td>\n",
              "      <td>9454.0</td>\n",
              "      <td>10707.0</td>\n",
              "      <td>10740.0</td>\n",
              "      <td>11002.0</td>\n",
              "      <td>7446.0</td>\n",
              "      <td>7552.0</td>\n",
              "      <td>8372.0</td>\n",
              "      <td>9308.0</td>\n",
              "      <td>9845.0</td>\n",
              "      <td>10021.0</td>\n",
              "      <td>11117.0</td>\n",
              "      <td>12185.0</td>\n",
              "      <td>17633.0</td>\n",
              "      <td>27408.0</td>\n",
              "    </tr>\n",
              "    <tr>\n",
              "      <th>5</th>\n",
              "      <td>Chandigarh</td>\n",
              "      <td>280.0</td>\n",
              "      <td>280.0</td>\n",
              "      <td>291.0</td>\n",
              "      <td>9184.0</td>\n",
              "      <td>9738.0</td>\n",
              "      <td>249.0</td>\n",
              "      <td>180.0</td>\n",
              "      <td>181.0</td>\n",
              "      <td>170.0</td>\n",
              "      <td>173.0</td>\n",
              "      <td>169.0</td>\n",
              "      <td>167.0</td>\n",
              "      <td>154.0</td>\n",
              "      <td>160.0</td>\n",
              "      <td>164.0</td>\n",
              "      <td>125.0</td>\n",
              "    </tr>\n",
              "    <tr>\n",
              "      <th>6</th>\n",
              "      <td>Chhattisgarh</td>\n",
              "      <td>8795.0</td>\n",
              "      <td>8875.0</td>\n",
              "      <td>9216.0</td>\n",
              "      <td>282.0</td>\n",
              "      <td>273.0</td>\n",
              "      <td>10520.0</td>\n",
              "      <td>12454.0</td>\n",
              "      <td>12984.0</td>\n",
              "      <td>13704.0</td>\n",
              "      <td>14330.0</td>\n",
              "      <td>14732.0</td>\n",
              "      <td>15028.0</td>\n",
              "      <td>16638.0</td>\n",
              "      <td>17718.0</td>\n",
              "      <td>18927.0</td>\n",
              "      <td>20289.0</td>\n",
              "    </tr>\n",
              "    <tr>\n",
              "      <th>7</th>\n",
              "      <td>Dadra &amp; Nagar Haveli</td>\n",
              "      <td>50.0</td>\n",
              "      <td>48.0</td>\n",
              "      <td>0.0</td>\n",
              "      <td>70.0</td>\n",
              "      <td>71.0</td>\n",
              "      <td>71.0</td>\n",
              "      <td>70.0</td>\n",
              "      <td>73.0</td>\n",
              "      <td>73.0</td>\n",
              "      <td>73.0</td>\n",
              "      <td>73.0</td>\n",
              "      <td>73.0</td>\n",
              "      <td>73.0</td>\n",
              "      <td>73.0</td>\n",
              "      <td>0.0</td>\n",
              "      <td>0.0</td>\n",
              "    </tr>\n",
              "    <tr>\n",
              "      <th>8</th>\n",
              "      <td>Daman &amp; Diu</td>\n",
              "      <td>9.0</td>\n",
              "      <td>11.0</td>\n",
              "      <td>11.0</td>\n",
              "      <td>19.0</td>\n",
              "      <td>19.0</td>\n",
              "      <td>19.0</td>\n",
              "      <td>19.0</td>\n",
              "      <td>20.0</td>\n",
              "      <td>20.0</td>\n",
              "      <td>13.0</td>\n",
              "      <td>19.0</td>\n",
              "      <td>8.0</td>\n",
              "      <td>4.0</td>\n",
              "      <td>5.0</td>\n",
              "      <td>5.0</td>\n",
              "      <td>5.0</td>\n",
              "    </tr>\n",
              "    <tr>\n",
              "      <th>9</th>\n",
              "      <td>Delhi</td>\n",
              "      <td>264.0</td>\n",
              "      <td>196.0</td>\n",
              "      <td>186.0</td>\n",
              "      <td>1.0</td>\n",
              "      <td>1.0</td>\n",
              "      <td>1.0</td>\n",
              "      <td>1.0</td>\n",
              "      <td>1.0</td>\n",
              "      <td>NaN</td>\n",
              "      <td>NaN</td>\n",
              "      <td>NaN</td>\n",
              "      <td>0.0</td>\n",
              "      <td>0.0</td>\n",
              "      <td>0.0</td>\n",
              "      <td>0.0</td>\n",
              "      <td>0.0</td>\n",
              "    </tr>\n",
              "    <tr>\n",
              "      <th>10</th>\n",
              "      <td>Goa</td>\n",
              "      <td>146.0</td>\n",
              "      <td>146.0</td>\n",
              "      <td>135.0</td>\n",
              "      <td>152.0</td>\n",
              "      <td>149.0</td>\n",
              "      <td>148.0</td>\n",
              "      <td>149.0</td>\n",
              "      <td>149.0</td>\n",
              "      <td>458.0</td>\n",
              "      <td>60.0</td>\n",
              "      <td>75.0</td>\n",
              "      <td>352.0</td>\n",
              "      <td>292.0</td>\n",
              "      <td>299.0</td>\n",
              "      <td>327.0</td>\n",
              "      <td>400.0</td>\n",
              "    </tr>\n",
              "    <tr>\n",
              "      <th>11</th>\n",
              "      <td>Gujarat</td>\n",
              "      <td>5031.0</td>\n",
              "      <td>5775.0</td>\n",
              "      <td>7757.0</td>\n",
              "      <td>8256.0</td>\n",
              "      <td>12675.0</td>\n",
              "      <td>12762.0</td>\n",
              "      <td>13269.0</td>\n",
              "      <td>14269.0</td>\n",
              "      <td>14558.0</td>\n",
              "      <td>15551.0</td>\n",
              "      <td>16565.0</td>\n",
              "      <td>17216.0</td>\n",
              "      <td>17940.0</td>\n",
              "      <td>17868.0</td>\n",
              "      <td>18544.0</td>\n",
              "      <td>19274.0</td>\n",
              "    </tr>\n",
              "    <tr>\n",
              "      <th>12</th>\n",
              "      <td>Haryana</td>\n",
              "      <td>14816.0</td>\n",
              "      <td>15126.0</td>\n",
              "      <td>39596.0</td>\n",
              "      <td>41031.0</td>\n",
              "      <td>38150.0</td>\n",
              "      <td>38453.0</td>\n",
              "      <td>39644.0</td>\n",
              "      <td>41142.0</td>\n",
              "      <td>42343.0</td>\n",
              "      <td>43591.0</td>\n",
              "      <td>45790.0</td>\n",
              "      <td>49133.0</td>\n",
              "      <td>52139.0</td>\n",
              "      <td>55855.0</td>\n",
              "      <td>60577.0</td>\n",
              "      <td>66153.0</td>\n",
              "    </tr>\n",
              "    <tr>\n",
              "      <th>13</th>\n",
              "      <td>Himachal Pradesh</td>\n",
              "      <td>811.0</td>\n",
              "      <td>753.0</td>\n",
              "      <td>772.0</td>\n",
              "      <td>843.0</td>\n",
              "      <td>977.0</td>\n",
              "      <td>1000.0</td>\n",
              "      <td>1021.0</td>\n",
              "      <td>1050.0</td>\n",
              "      <td>1069.0</td>\n",
              "      <td>1075.0</td>\n",
              "      <td>1084.0</td>\n",
              "      <td>812.0</td>\n",
              "      <td>959.0</td>\n",
              "      <td>981.0</td>\n",
              "      <td>1007.0</td>\n",
              "      <td>1066.0</td>\n",
              "    </tr>\n",
              "    <tr>\n",
              "      <th>14</th>\n",
              "      <td>Jammu and Kashmir</td>\n",
              "      <td>6105.0</td>\n",
              "      <td>6320.0</td>\n",
              "      <td>6320.0</td>\n",
              "      <td>6682.0</td>\n",
              "      <td>7208.0</td>\n",
              "      <td>7242.0</td>\n",
              "      <td>7725.0</td>\n",
              "      <td>6520.0</td>\n",
              "      <td>6715.0</td>\n",
              "      <td>6649.0</td>\n",
              "      <td>4958.0</td>\n",
              "      <td>2309.0</td>\n",
              "      <td>2305.0</td>\n",
              "      <td>2334.0</td>\n",
              "      <td>2349.0</td>\n",
              "      <td>2216.0</td>\n",
              "    </tr>\n",
              "    <tr>\n",
              "      <th>15</th>\n",
              "      <td>Jharkhand</td>\n",
              "      <td>6980.0</td>\n",
              "      <td>6970.0</td>\n",
              "      <td>7110.0</td>\n",
              "      <td>7130.0</td>\n",
              "      <td>3995.0</td>\n",
              "      <td>3925.0</td>\n",
              "      <td>4153.0</td>\n",
              "      <td>4313.0</td>\n",
              "      <td>4239.0</td>\n",
              "      <td>4445.0</td>\n",
              "      <td>4663.0</td>\n",
              "      <td>4833.0</td>\n",
              "      <td>5103.0</td>\n",
              "      <td>5531.0</td>\n",
              "      <td>6379.0</td>\n",
              "      <td>6928.0</td>\n",
              "    </tr>\n",
              "    <tr>\n",
              "      <th>16</th>\n",
              "      <td>Karnataka</td>\n",
              "      <td>17719.0</td>\n",
              "      <td>18348.0</td>\n",
              "      <td>19498.0</td>\n",
              "      <td>20181.0</td>\n",
              "      <td>23688.0</td>\n",
              "      <td>29094.0</td>\n",
              "      <td>30674.0</td>\n",
              "      <td>34699.0</td>\n",
              "      <td>36773.0</td>\n",
              "      <td>41301.0</td>\n",
              "      <td>43968.0</td>\n",
              "      <td>47660.0</td>\n",
              "      <td>50671.0</td>\n",
              "      <td>55661.0</td>\n",
              "      <td>59994.0</td>\n",
              "      <td>66511.0</td>\n",
              "    </tr>\n",
              "    <tr>\n",
              "      <th>17</th>\n",
              "      <td>Kerala</td>\n",
              "      <td>11974.0</td>\n",
              "      <td>11956.0</td>\n",
              "      <td>11987.0</td>\n",
              "      <td>13831.0</td>\n",
              "      <td>15095.0</td>\n",
              "      <td>16330.0</td>\n",
              "      <td>16856.0</td>\n",
              "      <td>17049.0</td>\n",
              "      <td>22375.0</td>\n",
              "      <td>24769.0</td>\n",
              "      <td>25036.0</td>\n",
              "      <td>24425.0</td>\n",
              "      <td>23444.0</td>\n",
              "      <td>23481.0</td>\n",
              "      <td>22906.0</td>\n",
              "      <td>21845.0</td>\n",
              "    </tr>\n",
              "    <tr>\n",
              "      <th>18</th>\n",
              "      <td>Lakshadweep</td>\n",
              "      <td>120.0</td>\n",
              "      <td>124.0</td>\n",
              "      <td>127.0</td>\n",
              "      <td>128.0</td>\n",
              "      <td>135.0</td>\n",
              "      <td>138.0</td>\n",
              "      <td>138.0</td>\n",
              "      <td>140.0</td>\n",
              "      <td>140.0</td>\n",
              "      <td>129.0</td>\n",
              "      <td>126.0</td>\n",
              "      <td>144.0</td>\n",
              "      <td>147.0</td>\n",
              "      <td>142.0</td>\n",
              "      <td>142.0</td>\n",
              "      <td>153.0</td>\n",
              "    </tr>\n",
              "    <tr>\n",
              "      <th>19</th>\n",
              "      <td>Madhya Pradesh</td>\n",
              "      <td>9023.0</td>\n",
              "      <td>9414.0</td>\n",
              "      <td>9518.0</td>\n",
              "      <td>9747.0</td>\n",
              "      <td>6713.0</td>\n",
              "      <td>7075.0</td>\n",
              "      <td>7577.0</td>\n",
              "      <td>7972.0</td>\n",
              "      <td>8711.0</td>\n",
              "      <td>9671.0</td>\n",
              "      <td>11776.0</td>\n",
              "      <td>14414.0</td>\n",
              "      <td>16940.0</td>\n",
              "      <td>19422.0</td>\n",
              "      <td>21432.0</td>\n",
              "      <td>23794.0</td>\n",
              "    </tr>\n",
              "    <tr>\n",
              "      <th>20</th>\n",
              "      <td>Maharashtra</td>\n",
              "      <td>34362.0</td>\n",
              "      <td>35227.0</td>\n",
              "      <td>33950.0</td>\n",
              "      <td>34640.0</td>\n",
              "      <td>35502.0</td>\n",
              "      <td>38640.0</td>\n",
              "      <td>42245.0</td>\n",
              "      <td>43861.0</td>\n",
              "      <td>45661.0</td>\n",
              "      <td>48315.0</td>\n",
              "      <td>50792.0</td>\n",
              "      <td>52858.0</td>\n",
              "      <td>54774.0</td>\n",
              "      <td>56991.0</td>\n",
              "      <td>59649.0</td>\n",
              "      <td>63713.0</td>\n",
              "    </tr>\n",
              "    <tr>\n",
              "      <th>21</th>\n",
              "      <td>Manipur</td>\n",
              "      <td>822.0</td>\n",
              "      <td>835.0</td>\n",
              "      <td>836.0</td>\n",
              "      <td>845.0</td>\n",
              "      <td>1105.0</td>\n",
              "      <td>1119.0</td>\n",
              "      <td>1137.0</td>\n",
              "      <td>1149.0</td>\n",
              "      <td>1162.0</td>\n",
              "      <td>1164.0</td>\n",
              "      <td>1129.0</td>\n",
              "      <td>1037.0</td>\n",
              "      <td>992.0</td>\n",
              "      <td>1018.0</td>\n",
              "      <td>1053.0</td>\n",
              "      <td>1082.0</td>\n",
              "    </tr>\n",
              "    <tr>\n",
              "      <th>22</th>\n",
              "      <td>Meghalaya</td>\n",
              "      <td>946.0</td>\n",
              "      <td>973.0</td>\n",
              "      <td>978.0</td>\n",
              "      <td>990.0</td>\n",
              "      <td>995.0</td>\n",
              "      <td>999.0</td>\n",
              "      <td>1011.0</td>\n",
              "      <td>1021.0</td>\n",
              "      <td>1028.0</td>\n",
              "      <td>1049.0</td>\n",
              "      <td>1057.0</td>\n",
              "      <td>1064.0</td>\n",
              "      <td>1064.0</td>\n",
              "      <td>1074.0</td>\n",
              "      <td>1090.0</td>\n",
              "      <td>1102.0</td>\n",
              "    </tr>\n",
              "    <tr>\n",
              "      <th>23</th>\n",
              "      <td>Mizoram</td>\n",
              "      <td>317.0</td>\n",
              "      <td>326.0</td>\n",
              "      <td>348.0</td>\n",
              "      <td>403.0</td>\n",
              "      <td>411.0</td>\n",
              "      <td>371.0</td>\n",
              "      <td>387.0</td>\n",
              "      <td>349.0</td>\n",
              "      <td>352.0</td>\n",
              "      <td>362.0</td>\n",
              "      <td>377.0</td>\n",
              "      <td>391.0</td>\n",
              "      <td>408.0</td>\n",
              "      <td>410.0</td>\n",
              "      <td>415.0</td>\n",
              "      <td>433.0</td>\n",
              "    </tr>\n",
              "    <tr>\n",
              "      <th>24</th>\n",
              "      <td>Nagaland</td>\n",
              "      <td>755.0</td>\n",
              "      <td>868.0</td>\n",
              "      <td>868.0</td>\n",
              "      <td>802.0</td>\n",
              "      <td>832.0</td>\n",
              "      <td>834.0</td>\n",
              "      <td>802.0</td>\n",
              "      <td>704.0</td>\n",
              "      <td>618.0</td>\n",
              "      <td>223.0</td>\n",
              "      <td>353.0</td>\n",
              "      <td>465.0</td>\n",
              "      <td>397.0</td>\n",
              "      <td>401.0</td>\n",
              "      <td>375.0</td>\n",
              "      <td>382.0</td>\n",
              "    </tr>\n",
              "    <tr>\n",
              "      <th>25</th>\n",
              "      <td>Odisha</td>\n",
              "      <td>12160.0</td>\n",
              "      <td>12787.0</td>\n",
              "      <td>14246.0</td>\n",
              "      <td>15479.0</td>\n",
              "      <td>19940.0</td>\n",
              "      <td>23193.0</td>\n",
              "      <td>23571.0</td>\n",
              "      <td>23007.0</td>\n",
              "      <td>23230.0</td>\n",
              "      <td>23609.0</td>\n",
              "      <td>19245.0</td>\n",
              "      <td>19273.0</td>\n",
              "      <td>19745.0</td>\n",
              "      <td>20622.0</td>\n",
              "      <td>23453.0</td>\n",
              "      <td>23814.0</td>\n",
              "    </tr>\n",
              "    <tr>\n",
              "      <th>26</th>\n",
              "      <td>Puducherry</td>\n",
              "      <td>102.0</td>\n",
              "      <td>105.0</td>\n",
              "      <td>107.0</td>\n",
              "      <td>137.0</td>\n",
              "      <td>112.0</td>\n",
              "      <td>113.0</td>\n",
              "      <td>114.0</td>\n",
              "      <td>116.0</td>\n",
              "      <td>113.0</td>\n",
              "      <td>113.0</td>\n",
              "      <td>113.0</td>\n",
              "      <td>114.0</td>\n",
              "      <td>114.0</td>\n",
              "      <td>114.0</td>\n",
              "      <td>114.0</td>\n",
              "      <td>114.0</td>\n",
              "    </tr>\n",
              "    <tr>\n",
              "      <th>27</th>\n",
              "      <td>Punjab</td>\n",
              "      <td>36800.0</td>\n",
              "      <td>35200.0</td>\n",
              "      <td>37740.0</td>\n",
              "      <td>37914.0</td>\n",
              "      <td>36790.0</td>\n",
              "      <td>32828.0</td>\n",
              "      <td>35449.0</td>\n",
              "      <td>36030.0</td>\n",
              "      <td>37911.0</td>\n",
              "      <td>43376.0</td>\n",
              "      <td>42642.0</td>\n",
              "      <td>44218.0</td>\n",
              "      <td>47826.0</td>\n",
              "      <td>52250.0</td>\n",
              "      <td>55909.0</td>\n",
              "      <td>56388.0</td>\n",
              "    </tr>\n",
              "    <tr>\n",
              "      <th>28</th>\n",
              "      <td>Rajasthan</td>\n",
              "      <td>6932.0</td>\n",
              "      <td>7029.0</td>\n",
              "      <td>6631.0</td>\n",
              "      <td>6730.0</td>\n",
              "      <td>6449.0</td>\n",
              "      <td>6713.0</td>\n",
              "      <td>6697.0</td>\n",
              "      <td>9605.0</td>\n",
              "      <td>10335.0</td>\n",
              "      <td>11903.0</td>\n",
              "      <td>13202.0</td>\n",
              "      <td>13853.0</td>\n",
              "      <td>13633.0</td>\n",
              "      <td>14548.0</td>\n",
              "      <td>16616.0</td>\n",
              "      <td>26962.0</td>\n",
              "    </tr>\n",
              "    <tr>\n",
              "      <th>29</th>\n",
              "      <td>Sikkim</td>\n",
              "      <td>140.0</td>\n",
              "      <td>146.0</td>\n",
              "      <td>144.0</td>\n",
              "      <td>135.0</td>\n",
              "      <td>137.0</td>\n",
              "      <td>136.0</td>\n",
              "      <td>140.0</td>\n",
              "      <td>146.0</td>\n",
              "      <td>146.0</td>\n",
              "      <td>99.0</td>\n",
              "      <td>58.0</td>\n",
              "      <td>102.0</td>\n",
              "      <td>68.0</td>\n",
              "      <td>63.0</td>\n",
              "      <td>55.0</td>\n",
              "      <td>48.0</td>\n",
              "    </tr>\n",
              "    <tr>\n",
              "      <th>30</th>\n",
              "      <td>Tamil Nadu</td>\n",
              "      <td>63948.0</td>\n",
              "      <td>62225.0</td>\n",
              "      <td>80435.0</td>\n",
              "      <td>83937.0</td>\n",
              "      <td>88098.0</td>\n",
              "      <td>108476.0</td>\n",
              "      <td>115137.0</td>\n",
              "      <td>118518.0</td>\n",
              "      <td>119334.0</td>\n",
              "      <td>141235.0</td>\n",
              "      <td>159253.0</td>\n",
              "      <td>161252.0</td>\n",
              "      <td>166824.0</td>\n",
              "      <td>174161.0</td>\n",
              "      <td>188422.0</td>\n",
              "      <td>200216.0</td>\n",
              "    </tr>\n",
              "    <tr>\n",
              "      <th>31</th>\n",
              "      <td>Telangana</td>\n",
              "      <td>NaN</td>\n",
              "      <td>NaN</td>\n",
              "      <td>NaN</td>\n",
              "      <td>NaN</td>\n",
              "      <td>NaN</td>\n",
              "      <td>NaN</td>\n",
              "      <td>NaN</td>\n",
              "      <td>NaN</td>\n",
              "      <td>NaN</td>\n",
              "      <td>NaN</td>\n",
              "      <td>106185.0</td>\n",
              "      <td>112058.0</td>\n",
              "      <td>118186.0</td>\n",
              "      <td>126700.0</td>\n",
              "      <td>136868.0</td>\n",
              "      <td>148055.0</td>\n",
              "    </tr>\n",
              "    <tr>\n",
              "      <th>32</th>\n",
              "      <td>Tripura</td>\n",
              "      <td>1071.0</td>\n",
              "      <td>1100.0</td>\n",
              "      <td>1193.0</td>\n",
              "      <td>1320.0</td>\n",
              "      <td>1388.0</td>\n",
              "      <td>1442.0</td>\n",
              "      <td>1569.0</td>\n",
              "      <td>1650.0</td>\n",
              "      <td>1565.0</td>\n",
              "      <td>1794.0</td>\n",
              "      <td>1979.0</td>\n",
              "      <td>2161.0</td>\n",
              "      <td>2294.0</td>\n",
              "      <td>2621.0</td>\n",
              "      <td>2760.0</td>\n",
              "      <td>2950.0</td>\n",
              "    </tr>\n",
              "    <tr>\n",
              "      <th>33</th>\n",
              "      <td>Uttar Pradesh</td>\n",
              "      <td>9018.0</td>\n",
              "      <td>9228.0</td>\n",
              "      <td>9483.0</td>\n",
              "      <td>9814.0</td>\n",
              "      <td>10140.0</td>\n",
              "      <td>10596.0</td>\n",
              "      <td>10991.0</td>\n",
              "      <td>16075.0</td>\n",
              "      <td>17074.0</td>\n",
              "      <td>18122.0</td>\n",
              "      <td>20776.0</td>\n",
              "      <td>21929.0</td>\n",
              "      <td>22889.0</td>\n",
              "      <td>24398.0</td>\n",
              "      <td>26050.0</td>\n",
              "      <td>34049.0</td>\n",
              "    </tr>\n",
              "    <tr>\n",
              "      <th>34</th>\n",
              "      <td>Uttarakhand</td>\n",
              "      <td>1866.0</td>\n",
              "      <td>1673.0</td>\n",
              "      <td>1889.0</td>\n",
              "      <td>1911.0</td>\n",
              "      <td>1962.0</td>\n",
              "      <td>2536.0</td>\n",
              "      <td>2614.0</td>\n",
              "      <td>2712.0</td>\n",
              "      <td>3079.0</td>\n",
              "      <td>3370.0</td>\n",
              "      <td>3697.0</td>\n",
              "      <td>3907.0</td>\n",
              "      <td>4119.0</td>\n",
              "      <td>4298.0</td>\n",
              "      <td>4532.0</td>\n",
              "      <td>4786.0</td>\n",
              "    </tr>\n",
              "    <tr>\n",
              "      <th>35</th>\n",
              "      <td>West Bengal</td>\n",
              "      <td>28877.0</td>\n",
              "      <td>29637.0</td>\n",
              "      <td>30386.0</td>\n",
              "      <td>30542.0</td>\n",
              "      <td>33056.0</td>\n",
              "      <td>36978.0</td>\n",
              "      <td>39939.0</td>\n",
              "      <td>43433.0</td>\n",
              "      <td>47115.0</td>\n",
              "      <td>47460.0</td>\n",
              "      <td>48136.0</td>\n",
              "      <td>60108.0</td>\n",
              "      <td>65536.0</td>\n",
              "      <td>76434.0</td>\n",
              "      <td>85999.0</td>\n",
              "      <td>97350.0</td>\n",
              "    </tr>\n",
              "    <tr>\n",
              "      <th>36</th>\n",
              "      <td>ALL INDIA</td>\n",
              "      <td>452009.0</td>\n",
              "      <td>462307.0</td>\n",
              "      <td>506630.0</td>\n",
              "      <td>535653.0</td>\n",
              "      <td>555628.0</td>\n",
              "      <td>602671.0</td>\n",
              "      <td>630244.0</td>\n",
              "      <td>664499.0</td>\n",
              "      <td>697307.0</td>\n",
              "      <td>747519.0</td>\n",
              "      <td>784839.0</td>\n",
              "      <td>829284.0</td>\n",
              "      <td>881370.0</td>\n",
              "      <td>952170.0</td>\n",
              "      <td>1038040.0</td>\n",
              "      <td>1143831.0</td>\n",
              "    </tr>\n",
              "    <tr>\n",
              "      <th>37</th>\n",
              "      <td>NaN</td>\n",
              "      <td>NaN</td>\n",
              "      <td>NaN</td>\n",
              "      <td>NaN</td>\n",
              "      <td>NaN</td>\n",
              "      <td>NaN</td>\n",
              "      <td>NaN</td>\n",
              "      <td>NaN</td>\n",
              "      <td>NaN</td>\n",
              "      <td>NaN</td>\n",
              "      <td>NaN</td>\n",
              "      <td>NaN</td>\n",
              "      <td>NaN</td>\n",
              "      <td>NaN</td>\n",
              "      <td>NaN</td>\n",
              "      <td>NaN</td>\n",
              "      <td>NaN</td>\n",
              "    </tr>\n",
              "  </tbody>\n",
              "</table>\n",
              "</div>\n",
              "      <button class=\"colab-df-convert\" onclick=\"convertToInteractive('df-9da09668-5d4b-42c2-a5ac-156245aa1f8b')\"\n",
              "              title=\"Convert this dataframe to an interactive table.\"\n",
              "              style=\"display:none;\">\n",
              "        \n",
              "  <svg xmlns=\"http://www.w3.org/2000/svg\" height=\"24px\"viewBox=\"0 0 24 24\"\n",
              "       width=\"24px\">\n",
              "    <path d=\"M0 0h24v24H0V0z\" fill=\"none\"/>\n",
              "    <path d=\"M18.56 5.44l.94 2.06.94-2.06 2.06-.94-2.06-.94-.94-2.06-.94 2.06-2.06.94zm-11 1L8.5 8.5l.94-2.06 2.06-.94-2.06-.94L8.5 2.5l-.94 2.06-2.06.94zm10 10l.94 2.06.94-2.06 2.06-.94-2.06-.94-.94-2.06-.94 2.06-2.06.94z\"/><path d=\"M17.41 7.96l-1.37-1.37c-.4-.4-.92-.59-1.43-.59-.52 0-1.04.2-1.43.59L10.3 9.45l-7.72 7.72c-.78.78-.78 2.05 0 2.83L4 21.41c.39.39.9.59 1.41.59.51 0 1.02-.2 1.41-.59l7.78-7.78 2.81-2.81c.8-.78.8-2.07 0-2.86zM5.41 20L4 18.59l7.72-7.72 1.47 1.35L5.41 20z\"/>\n",
              "  </svg>\n",
              "      </button>\n",
              "      \n",
              "  <style>\n",
              "    .colab-df-container {\n",
              "      display:flex;\n",
              "      flex-wrap:wrap;\n",
              "      gap: 12px;\n",
              "    }\n",
              "\n",
              "    .colab-df-convert {\n",
              "      background-color: #E8F0FE;\n",
              "      border: none;\n",
              "      border-radius: 50%;\n",
              "      cursor: pointer;\n",
              "      display: none;\n",
              "      fill: #1967D2;\n",
              "      height: 32px;\n",
              "      padding: 0 0 0 0;\n",
              "      width: 32px;\n",
              "    }\n",
              "\n",
              "    .colab-df-convert:hover {\n",
              "      background-color: #E2EBFA;\n",
              "      box-shadow: 0px 1px 2px rgba(60, 64, 67, 0.3), 0px 1px 3px 1px rgba(60, 64, 67, 0.15);\n",
              "      fill: #174EA6;\n",
              "    }\n",
              "\n",
              "    [theme=dark] .colab-df-convert {\n",
              "      background-color: #3B4455;\n",
              "      fill: #D2E3FC;\n",
              "    }\n",
              "\n",
              "    [theme=dark] .colab-df-convert:hover {\n",
              "      background-color: #434B5C;\n",
              "      box-shadow: 0px 1px 3px 1px rgba(0, 0, 0, 0.15);\n",
              "      filter: drop-shadow(0px 1px 2px rgba(0, 0, 0, 0.3));\n",
              "      fill: #FFFFFF;\n",
              "    }\n",
              "  </style>\n",
              "\n",
              "      <script>\n",
              "        const buttonEl =\n",
              "          document.querySelector('#df-9da09668-5d4b-42c2-a5ac-156245aa1f8b button.colab-df-convert');\n",
              "        buttonEl.style.display =\n",
              "          google.colab.kernel.accessAllowed ? 'block' : 'none';\n",
              "\n",
              "        async function convertToInteractive(key) {\n",
              "          const element = document.querySelector('#df-9da09668-5d4b-42c2-a5ac-156245aa1f8b');\n",
              "          const dataTable =\n",
              "            await google.colab.kernel.invokeFunction('convertToInteractive',\n",
              "                                                     [key], {});\n",
              "          if (!dataTable) return;\n",
              "\n",
              "          const docLinkHtml = 'Like what you see? Visit the ' +\n",
              "            '<a target=\"_blank\" href=https://colab.research.google.com/notebooks/data_table.ipynb>data table notebook</a>'\n",
              "            + ' to learn more about interactive tables.';\n",
              "          element.innerHTML = '';\n",
              "          dataTable['output_type'] = 'display_data';\n",
              "          await google.colab.output.renderOutput(dataTable, element);\n",
              "          const docLink = document.createElement('div');\n",
              "          docLink.innerHTML = docLinkHtml;\n",
              "          element.appendChild(docLink);\n",
              "        }\n",
              "      </script>\n",
              "    </div>\n",
              "  </div>\n",
              "  "
            ]
          },
          "metadata": {},
          "execution_count": 124
        }
      ]
    },
    {
      "cell_type": "code",
      "source": [
        "data.isna().sum()"
      ],
      "metadata": {
        "colab": {
          "base_uri": "https://localhost:8080/"
        },
        "id": "QHcZBE-MvLuh",
        "outputId": "0df6f4b5-b55b-4a2f-c7c8-0bd5f069d0a0"
      },
      "execution_count": null,
      "outputs": [
        {
          "output_type": "execute_result",
          "data": {
            "text/plain": [
              "state      1\n",
              "2004-05    2\n",
              "2005-06    2\n",
              "2006-07    2\n",
              "2007-08    2\n",
              "2008-09    2\n",
              "2009-10    2\n",
              "2010-11    2\n",
              "2011-12    2\n",
              "2012-13    3\n",
              "2013-14    3\n",
              "2014-15    2\n",
              "2015-16    1\n",
              "2016-17    1\n",
              "2017-18    1\n",
              "2018-19    1\n",
              "2019-20    1\n",
              "dtype: int64"
            ]
          },
          "metadata": {},
          "execution_count": 125
        }
      ]
    },
    {
      "cell_type": "code",
      "source": [
        "data.columns"
      ],
      "metadata": {
        "colab": {
          "base_uri": "https://localhost:8080/"
        },
        "id": "yLxxx3VE1dpH",
        "outputId": "9caa7e42-76f3-4b3c-8420-9b37255f2a8f"
      },
      "execution_count": null,
      "outputs": [
        {
          "output_type": "execute_result",
          "data": {
            "text/plain": [
              "Index(['state', '2004-05', '2005-06', '2006-07', '2007-08', '2008-09',\n",
              "       '2009-10', '2010-11', '2011-12', '2012-13', '2013-14', '2014-15',\n",
              "       '2015-16', '2016-17', '2017-18', '2018-19', '2019-20'],\n",
              "      dtype='object')"
            ]
          },
          "metadata": {},
          "execution_count": 126
        }
      ]
    },
    {
      "cell_type": "code",
      "source": [
        "num_cols=data[['2004-05', '2005-06', '2006-07', '2007-08',\n",
        "       '2008-09', '2009-10', '2010-11', '2011-12', '2012-13', '2013-14',\n",
        "       '2014-15', '2015-16', '2016-17', '2017-18', '2018-19', '2019-20']]"
      ],
      "metadata": {
        "id": "d7XSStfNvm4K"
      },
      "execution_count": null,
      "outputs": []
    },
    {
      "cell_type": "code",
      "source": [
        "num_cols.isna().sum()"
      ],
      "metadata": {
        "colab": {
          "base_uri": "https://localhost:8080/"
        },
        "id": "kYuaMk0-vvVD",
        "outputId": "2c273930-a873-40c6-b2c2-f98e703802a2"
      },
      "execution_count": null,
      "outputs": [
        {
          "output_type": "execute_result",
          "data": {
            "text/plain": [
              "2004-05    2\n",
              "2005-06    2\n",
              "2006-07    2\n",
              "2007-08    2\n",
              "2008-09    2\n",
              "2009-10    2\n",
              "2010-11    2\n",
              "2011-12    2\n",
              "2012-13    3\n",
              "2013-14    3\n",
              "2014-15    2\n",
              "2015-16    1\n",
              "2016-17    1\n",
              "2017-18    1\n",
              "2018-19    1\n",
              "2019-20    1\n",
              "dtype: int64"
            ]
          },
          "metadata": {},
          "execution_count": 128
        }
      ]
    },
    {
      "cell_type": "code",
      "source": [
        "from sklearn.impute import SimpleImputer\n",
        "imputer = SimpleImputer(missing_values = np.nan,strategy='mean')\n",
        "imputer =imputer.fit(num_cols)\n",
        "num_cols = imputer.transform(num_cols)"
      ],
      "metadata": {
        "id": "J02J40gM1tEt"
      },
      "execution_count": null,
      "outputs": []
    },
    {
      "cell_type": "code",
      "source": [
        "num_cols = pd.DataFrame(num_cols, columns=[['2004-05', '2005-06', '2006-07', '2007-08',\n",
        "       '2008-09', '2009-10', '2010-11', '2011-12', '2012-13', '2013-14',\n",
        "       '2014-15', '2015-16', '2016-17', '2017-18', '2018-19', '2019-20']])"
      ],
      "metadata": {
        "id": "gKA8ag-B1ws0"
      },
      "execution_count": null,
      "outputs": []
    },
    {
      "cell_type": "code",
      "source": [
        "data['2004-05']=data['2004-05'].fillna(data['2004-05'].median())"
      ],
      "metadata": {
        "id": "VBkOyV3fp2fr"
      },
      "execution_count": null,
      "outputs": []
    },
    {
      "cell_type": "code",
      "source": [
        "data['2004-05'].isna().sum()\n"
      ],
      "metadata": {
        "colab": {
          "base_uri": "https://localhost:8080/"
        },
        "id": "6q61ygJ9qPiD",
        "outputId": "01486a97-4bc6-4b94-bf91-7c6497d1f716"
      },
      "execution_count": null,
      "outputs": [
        {
          "output_type": "execute_result",
          "data": {
            "text/plain": [
              "0"
            ]
          },
          "metadata": {},
          "execution_count": 132
        }
      ]
    },
    {
      "cell_type": "code",
      "source": [
        "data.columns"
      ],
      "metadata": {
        "colab": {
          "base_uri": "https://localhost:8080/"
        },
        "id": "IwvVfzitsBcL",
        "outputId": "c8dd1e59-fa39-40c2-a994-5a08992c6c20"
      },
      "execution_count": null,
      "outputs": [
        {
          "output_type": "execute_result",
          "data": {
            "text/plain": [
              "Index(['state', '2004-05', '2005-06', '2006-07', '2007-08', '2008-09',\n",
              "       '2009-10', '2010-11', '2011-12', '2012-13', '2013-14', '2014-15',\n",
              "       '2015-16', '2016-17', '2017-18', '2018-19', '2019-20'],\n",
              "      dtype='object')"
            ]
          },
          "metadata": {},
          "execution_count": 133
        }
      ]
    },
    {
      "cell_type": "code",
      "source": [
        "for i in [  '2004-05', '2005-06', '2006-07', '2007-08',\n",
        "       '2008-09', '2009-10', '2010-11', '2011-12', '2012-13', '2013-14',\n",
        "       '2014-15', '2015-16', '2016-17', '2017-18', '2018-19', '2019-20']:\n",
        "  data[i]=data[i].fillna(data[i].median())"
      ],
      "metadata": {
        "id": "k3Iva0hYqZZ8"
      },
      "execution_count": null,
      "outputs": []
    },
    {
      "cell_type": "code",
      "source": [
        "data.isna().sum()"
      ],
      "metadata": {
        "colab": {
          "base_uri": "https://localhost:8080/"
        },
        "id": "akuXelTGrAnf",
        "outputId": "6c1dac4b-ee7c-4209-a8c6-0a0a808b51c1"
      },
      "execution_count": null,
      "outputs": [
        {
          "output_type": "execute_result",
          "data": {
            "text/plain": [
              "state      1\n",
              "2004-05    0\n",
              "2005-06    0\n",
              "2006-07    0\n",
              "2007-08    0\n",
              "2008-09    0\n",
              "2009-10    0\n",
              "2010-11    0\n",
              "2011-12    0\n",
              "2012-13    0\n",
              "2013-14    0\n",
              "2014-15    0\n",
              "2015-16    0\n",
              "2016-17    0\n",
              "2017-18    0\n",
              "2018-19    0\n",
              "2019-20    0\n",
              "dtype: int64"
            ]
          },
          "metadata": {},
          "execution_count": 135
        }
      ]
    },
    {
      "cell_type": "code",
      "source": [
        "data.groupby('state')['2004-05'].mean()\n"
      ],
      "metadata": {
        "colab": {
          "base_uri": "https://localhost:8080/"
        },
        "id": "95DMwtXRrEwH",
        "outputId": "5c37ad37-0f44-47ec-de1d-57f359115677"
      },
      "execution_count": null,
      "outputs": [
        {
          "output_type": "execute_result",
          "data": {
            "text/plain": [
              "state\n",
              "ALL INDIA                      452009.0\n",
              "Andaman and Nicobar Islands       530.0\n",
              "Andhra Pradesh#                158040.0\n",
              "Arunachal Pradesh                  90.0\n",
              "Assam                            5216.0\n",
              "Bihar                            7894.0\n",
              "Chandigarh                        280.0\n",
              "Chhattisgarh                     8795.0\n",
              "Dadra & Nagar Haveli               50.0\n",
              "Daman & Diu                         9.0\n",
              "Delhi                             264.0\n",
              "Goa                               146.0\n",
              "Gujarat                          5031.0\n",
              "Haryana                         14816.0\n",
              "Himachal Pradesh                  811.0\n",
              "Jammu and Kashmir                6105.0\n",
              "Jharkhand                        6980.0\n",
              "Karnataka                       17719.0\n",
              "Kerala                          11974.0\n",
              "Lakshadweep                       120.0\n",
              "Madhya Pradesh                   9023.0\n",
              "Maharashtra                     34362.0\n",
              "Manipur                           822.0\n",
              "Meghalaya                         946.0\n",
              "Mizoram                           317.0\n",
              "Nagaland                          755.0\n",
              "Odisha                          12160.0\n",
              "Puducherry                        102.0\n",
              "Punjab                          36800.0\n",
              "Rajasthan                        6932.0\n",
              "Sikkim                            140.0\n",
              "Tamil Nadu                      63948.0\n",
              "Telangana                        5123.5\n",
              "Tripura                          1071.0\n",
              "Uttar Pradesh                    9018.0\n",
              "Uttarakhand                      1866.0\n",
              "West Bengal                     28877.0\n",
              "Name: 2004-05, dtype: float64"
            ]
          },
          "metadata": {},
          "execution_count": 137
        }
      ]
    },
    {
      "cell_type": "code",
      "source": [
        "data.state.nunique()"
      ],
      "metadata": {
        "id": "xTuWR6tRrmPi",
        "colab": {
          "base_uri": "https://localhost:8080/"
        },
        "outputId": "50d1574f-1905-4b02-85ed-c11e5ab8183d"
      },
      "execution_count": null,
      "outputs": [
        {
          "output_type": "execute_result",
          "data": {
            "text/plain": [
              "37"
            ]
          },
          "metadata": {},
          "execution_count": 138
        }
      ]
    },
    {
      "cell_type": "code",
      "source": [
        "data.drop('state',axis=1, inplace=True)"
      ],
      "metadata": {
        "id": "95yv3P8VsIur"
      },
      "execution_count": null,
      "outputs": []
    },
    {
      "cell_type": "code",
      "source": [
        "data.shape"
      ],
      "metadata": {
        "id": "UDdis8lfsUWM",
        "colab": {
          "base_uri": "https://localhost:8080/"
        },
        "outputId": "da832d89-76d9-4a39-b570-8898f75f9821"
      },
      "execution_count": null,
      "outputs": [
        {
          "output_type": "execute_result",
          "data": {
            "text/plain": [
              "(38, 16)"
            ]
          },
          "metadata": {},
          "execution_count": 141
        }
      ]
    },
    {
      "cell_type": "code",
      "source": [
        "for i in ['2004-05', '2005-06', '2006-07', '2007-08', '2008-09',\n",
        "       '2009-10', '2010-11', '2011-12', '2012-13', '2013-14', '2014-15',\n",
        "       '2015-16', '2016-17', '2017-18', '2018-19', '2019-20']:\n",
        "  plt.figure()\n",
        "  plt.boxplot(data[i])\n",
        "  plt.title(i)"
      ],
      "metadata": {
        "id": "Hk1tL3iXTgkn",
        "colab": {
          "base_uri": "https://localhost:8080/",
          "height": 1000
        },
        "outputId": "0348e2d8-d3cb-4e2e-866d-3bba9621c858"
      },
      "execution_count": null,
      "outputs": [
        {
          "output_type": "display_data",
          "data": {
            "text/plain": [
              "<Figure size 640x480 with 1 Axes>"
            ],
            "image/png": "[encoded data removed]"
          },
          "metadata": {}
        },
        {
          "output_type": "display_data",
          "data": {
            "text/plain": [
              "<Figure size 640x480 with 1 Axes>"
            ],
            "image/png": "[encoded data removed]"
          },
          "metadata": {}
        },
        {
          "output_type": "display_data",
          "data": {
            "text/plain": [
              "<Figure size 640x480 with 1 Axes>"
            ],
            "image/png": "[encoded data removed]"
          },
          "metadata": {}
        },
        {
          "output_type": "display_data",
          "data": {
            "text/plain": [
              "<Figure size 640x480 with 1 Axes>"
            ],
            "image/png": "[encoded data removed]"
          },
          "metadata": {}
        },
        {
          "output_type": "display_data",
          "data": {
            "text/plain": [
              "<Figure size 640x480 with 1 Axes>"
            ],
            "image/png": "[encoded data removed]"
          },
          "metadata": {}
        },
        {
          "output_type": "display_data",
          "data": {
            "text/plain": [
              "<Figure size 640x480 with 1 Axes>"
            ],
            "image/png": "[encoded data removed]"
          },
          "metadata": {}
        },
        {
          "output_type": "display_data",
          "data": {
            "text/plain": [
              "<Figure size 640x480 with 1 Axes>"
            ],
            "image/png": "[encoded data removed]"
          },
          "metadata": {}
        },
        {
          "output_type": "display_data",
          "data": {
            "text/plain": [
              "<Figure size 640x480 with 1 Axes>"
            ],
            "image/png": "[encoded data removed]"
          },
          "metadata": {}
        },
        {
          "output_type": "display_data",
          "data": {
            "text/plain": [
              "<Figure size 640x480 with 1 Axes>"
            ],
            "image/png": "[encoded data removed]"
          },
          "metadata": {}
        },
        {
          "output_type": "display_data",
          "data": {
            "text/plain": [
              "<Figure size 640x480 with 1 Axes>"
            ],
            "image/png": "[encoded data removed]"
          },
          "metadata": {}
        },
        {
          "output_type": "display_data",
          "data": {
            "text/plain": [
              "<Figure size 640x480 with 1 Axes>"
            ],
            "image/png": "[encoded data removed]"
          },
          "metadata": {}
        },
        {
          "output_type": "display_data",
          "data": {
            "text/plain": [
              "<Figure size 640x480 with 1 Axes>"
            ],
            "image/png": "[encoded data removed]"
          },
          "metadata": {}
        },
        {
          "output_type": "display_data",
          "data": {
            "text/plain": [
              "<Figure size 640x480 with 1 Axes>"
            ],
            "image/png": "[encoded data removed]"
          },
          "metadata": {}
        },
        {
          "output_type": "display_data",
          "data": {
            "text/plain": [
              "<Figure size 640x480 with 1 Axes>"
            ],
            "image/png": "[encoded data removed]"
          },
          "metadata": {}
        },
        {
          "output_type": "display_data",
          "data": {
            "text/plain": [
              "<Figure size 640x480 with 1 Axes>"
            ],
            "image/png": "[encoded data removed]"
          },
          "metadata": {}
        },
        {
          "output_type": "display_data",
          "data": {
            "text/plain": [
              "<Figure size 640x480 with 1 Axes>"
            ],
            "image/png": "[encoded data removed]"
          },
          "metadata": {}
        }
      ]
    },
    {
      "cell_type": "code",
      "source": [
        "q1=np.percentile(data['2004-05'],25,interpolation='midpoint')\n",
        "q2=np.percentile(data['2004-05'],50,interpolation='midpoint')\n",
        "q3=np.percentile(data['2004-05'],75,interpolation='midpoint')"
      ],
      "metadata": {
        "id": "5eiJBXT3YvTa",
        "colab": {
          "base_uri": "https://localhost:8080/"
        },
        "outputId": "9dfe4e81-0ba7-4e76-80e7-1c5218a2796c"
      },
      "execution_count": null,
      "outputs": [
        {
          "output_type": "stream",
          "name": "stderr",
          "text": [
            "<ipython-input-145-6cf65df0337a>:1: DeprecationWarning: the `interpolation=` argument to percentile was renamed to `method=`, which has additional options.\n",
            "Users of the modes 'nearest', 'lower', 'higher', or 'midpoint' are encouraged to review the method they. (Deprecated NumPy 1.22)\n",
            "  q1=np.percentile(data['2004-05'],25,interpolation='midpoint')\n",
            "<ipython-input-145-6cf65df0337a>:2: DeprecationWarning: the `interpolation=` argument to percentile was renamed to `method=`, which has additional options.\n",
            "Users of the modes 'nearest', 'lower', 'higher', or 'midpoint' are encouraged to review the method they. (Deprecated NumPy 1.22)\n",
            "  q2=np.percentile(data['2004-05'],50,interpolation='midpoint')\n",
            "<ipython-input-145-6cf65df0337a>:3: DeprecationWarning: the `interpolation=` argument to percentile was renamed to `method=`, which has additional options.\n",
            "Users of the modes 'nearest', 'lower', 'higher', or 'midpoint' are encouraged to review the method they. (Deprecated NumPy 1.22)\n",
            "  q3=np.percentile(data['2004-05'],75,interpolation='midpoint')\n"
          ]
        }
      ]
    },
    {
      "cell_type": "code",
      "source": [
        "print(q1)\n",
        "print(q2)\n",
        "print(q3)"
      ],
      "metadata": {
        "id": "17bJe2nnY_X7",
        "colab": {
          "base_uri": "https://localhost:8080/"
        },
        "outputId": "884867da-4797-4e48-b5bd-f545f5cfe4a9"
      },
      "execution_count": null,
      "outputs": [
        {
          "output_type": "stream",
          "name": "stdout",
          "text": [
            "423.5\n",
            "5123.5\n",
            "10498.5\n"
          ]
        }
      ]
    },
    {
      "cell_type": "code",
      "source": [
        "data['2004-05'].median()"
      ],
      "metadata": {
        "id": "PcSY_GHTZOqg",
        "colab": {
          "base_uri": "https://localhost:8080/"
        },
        "outputId": "0d54c95f-d504-400e-c4f2-30d4b84a0042"
      },
      "execution_count": null,
      "outputs": [
        {
          "output_type": "execute_result",
          "data": {
            "text/plain": [
              "5123.5"
            ]
          },
          "metadata": {},
          "execution_count": 148
        }
      ]
    },
    {
      "cell_type": "code",
      "source": [
        "\n",
        "IQR=q3-q1"
      ],
      "metadata": {
        "id": "XLPHfXZIZOnt"
      },
      "execution_count": null,
      "outputs": []
    },
    {
      "cell_type": "code",
      "source": [
        "IQR\n"
      ],
      "metadata": {
        "id": "8DZcfJwtZOkb",
        "colab": {
          "base_uri": "https://localhost:8080/"
        },
        "outputId": "34908d1d-892c-43af-d339-a02d2519392f"
      },
      "execution_count": null,
      "outputs": [
        {
          "output_type": "execute_result",
          "data": {
            "text/plain": [
              "10075.0"
            ]
          },
          "metadata": {},
          "execution_count": 150
        }
      ]
    },
    {
      "cell_type": "code",
      "source": [
        "low_lim=q1-1.5*IQR\n",
        "up_lim=q3+1.5*IQR"
      ],
      "metadata": {
        "id": "kRzSF56mZOiE"
      },
      "execution_count": null,
      "outputs": []
    },
    {
      "cell_type": "code",
      "source": [
        "low_lim"
      ],
      "metadata": {
        "id": "_7smw8JOZOfd",
        "colab": {
          "base_uri": "https://localhost:8080/"
        },
        "outputId": "66d47ad2-3cbd-4e3e-d84f-c615867c10cc"
      },
      "execution_count": null,
      "outputs": [
        {
          "output_type": "execute_result",
          "data": {
            "text/plain": [
              "-14689.0"
            ]
          },
          "metadata": {},
          "execution_count": 152
        }
      ]
    },
    {
      "cell_type": "code",
      "source": [
        "up_lim"
      ],
      "metadata": {
        "id": "s80iao3zZOdJ",
        "colab": {
          "base_uri": "https://localhost:8080/"
        },
        "outputId": "1b03cc81-0895-4385-f40e-2d910a10aa7d"
      },
      "execution_count": null,
      "outputs": [
        {
          "output_type": "execute_result",
          "data": {
            "text/plain": [
              "25611.0"
            ]
          },
          "metadata": {},
          "execution_count": 153
        }
      ]
    },
    {
      "cell_type": "code",
      "source": [
        "outlier=[]\n",
        "for x in data['2004-05']:\n",
        "  if((x>up_lim)or(x<low_lim)):\n",
        "        outlier.append(x)"
      ],
      "metadata": {
        "id": "HS68MDsFZObD"
      },
      "execution_count": null,
      "outputs": []
    },
    {
      "cell_type": "code",
      "source": [
        "outlier"
      ],
      "metadata": {
        "id": "-cxIslgEZOY_",
        "colab": {
          "base_uri": "https://localhost:8080/"
        },
        "outputId": "05599e32-e9de-484d-9465-2435d112a99c"
      },
      "execution_count": null,
      "outputs": [
        {
          "output_type": "execute_result",
          "data": {
            "text/plain": [
              "[158040.0, 34362.0, 36800.0, 63948.0, 28877.0, 452009.0]"
            ]
          },
          "metadata": {},
          "execution_count": 155
        }
      ]
    },
    {
      "cell_type": "code",
      "source": [
        "ind1 = data['2004-05']<low_lim\n",
        "data.loc[ind1].index"
      ],
      "metadata": {
        "id": "HDgPrqy7bseQ",
        "colab": {
          "base_uri": "https://localhost:8080/"
        },
        "outputId": "187866ab-b17a-4b77-bd65-009b55a854d7"
      },
      "execution_count": null,
      "outputs": [
        {
          "output_type": "execute_result",
          "data": {
            "text/plain": [
              "Int64Index([], dtype='int64')"
            ]
          },
          "metadata": {},
          "execution_count": 157
        }
      ]
    },
    {
      "cell_type": "code",
      "source": [
        "ind2 = data['2004-05']>up_lim\n",
        "data.loc[ind2].index"
      ],
      "metadata": {
        "id": "Vs1Nw2w7bsbQ",
        "colab": {
          "base_uri": "https://localhost:8080/"
        },
        "outputId": "b69abcd7-cea0-4955-fdb9-ed39b5d7fbe3"
      },
      "execution_count": null,
      "outputs": [
        {
          "output_type": "execute_result",
          "data": {
            "text/plain": [
              "Int64Index([1, 20, 27, 30, 35, 36], dtype='int64')"
            ]
          },
          "metadata": {},
          "execution_count": 158
        }
      ]
    },
    {
      "cell_type": "code",
      "source": [
        "ind2"
      ],
      "metadata": {
        "id": "sBj6RSfGbsWT",
        "colab": {
          "base_uri": "https://localhost:8080/"
        },
        "outputId": "ef54b96a-b5a8-4256-9413-d73708e00998"
      },
      "execution_count": null,
      "outputs": [
        {
          "output_type": "execute_result",
          "data": {
            "text/plain": [
              "0     False\n",
              "1      True\n",
              "2     False\n",
              "3     False\n",
              "4     False\n",
              "5     False\n",
              "6     False\n",
              "7     False\n",
              "8     False\n",
              "9     False\n",
              "10    False\n",
              "11    False\n",
              "12    False\n",
              "13    False\n",
              "14    False\n",
              "15    False\n",
              "16    False\n",
              "17    False\n",
              "18    False\n",
              "19    False\n",
              "20     True\n",
              "21    False\n",
              "22    False\n",
              "23    False\n",
              "24    False\n",
              "25    False\n",
              "26    False\n",
              "27     True\n",
              "28    False\n",
              "29    False\n",
              "30     True\n",
              "31    False\n",
              "32    False\n",
              "33    False\n",
              "34    False\n",
              "35     True\n",
              "36     True\n",
              "37    False\n",
              "Name: 2004-05, dtype: bool"
            ]
          },
          "metadata": {},
          "execution_count": 159
        }
      ]
    },
    {
      "cell_type": "code",
      "source": [
        "ind1"
      ],
      "metadata": {
        "colab": {
          "base_uri": "https://localhost:8080/"
        },
        "id": "uqKCXIpfzN5T",
        "outputId": "6ab82d37-7d87-4a86-b20e-b92eb6dd825b"
      },
      "execution_count": null,
      "outputs": [
        {
          "output_type": "execute_result",
          "data": {
            "text/plain": [
              "0     False\n",
              "1     False\n",
              "2     False\n",
              "3     False\n",
              "4     False\n",
              "5     False\n",
              "6     False\n",
              "7     False\n",
              "8     False\n",
              "9     False\n",
              "10    False\n",
              "11    False\n",
              "12    False\n",
              "13    False\n",
              "14    False\n",
              "15    False\n",
              "16    False\n",
              "17    False\n",
              "18    False\n",
              "19    False\n",
              "20    False\n",
              "21    False\n",
              "22    False\n",
              "23    False\n",
              "24    False\n",
              "25    False\n",
              "26    False\n",
              "27    False\n",
              "28    False\n",
              "29    False\n",
              "30    False\n",
              "31    False\n",
              "32    False\n",
              "33    False\n",
              "34    False\n",
              "35    False\n",
              "36    False\n",
              "37    False\n",
              "Name: 2004-05, dtype: bool"
            ]
          },
          "metadata": {},
          "execution_count": 160
        }
      ]
    },
    {
      "cell_type": "code",
      "source": [
        "data.head(20)\n"
      ],
      "metadata": {
        "id": "rd4g7fpHbsRE",
        "colab": {
          "base_uri": "https://localhost:8080/",
          "height": 757
        },
        "outputId": "34cc38c5-953e-4581-e3fd-8cd5153c787e"
      },
      "execution_count": null,
      "outputs": [
        {
          "output_type": "execute_result",
          "data": {
            "text/plain": [
              "     2004-05   2005-06   2006-07   2007-08   2008-09   2009-10   2010-11  \\\n",
              "0      530.0     477.0     535.0     622.0     618.0     657.0     672.0   \n",
              "1   158040.0  164534.0  159411.0  175884.0  183446.0  193958.0  201277.0   \n",
              "2       90.0      73.0      73.0     394.0     361.0     380.0     407.0   \n",
              "3     5216.0    5359.0    5350.0    4910.0    4659.0    4671.0    4707.0   \n",
              "4     7894.0   10012.0    9454.0   10707.0   10740.0   11002.0    7446.0   \n",
              "5      280.0     280.0     291.0    9184.0    9738.0     249.0     180.0   \n",
              "6     8795.0    8875.0    9216.0     282.0     273.0   10520.0   12454.0   \n",
              "7       50.0      48.0       0.0      70.0      71.0      71.0      70.0   \n",
              "8        9.0      11.0      11.0      19.0      19.0      19.0      19.0   \n",
              "9      264.0     196.0     186.0       1.0       1.0       1.0       1.0   \n",
              "10     146.0     146.0     135.0     152.0     149.0     148.0     149.0   \n",
              "11    5031.0    5775.0    7757.0    8256.0   12675.0   12762.0   13269.0   \n",
              "12   14816.0   15126.0   39596.0   41031.0   38150.0   38453.0   39644.0   \n",
              "13     811.0     753.0     772.0     843.0     977.0    1000.0    1021.0   \n",
              "14    6105.0    6320.0    6320.0    6682.0    7208.0    7242.0    7725.0   \n",
              "15    6980.0    6970.0    7110.0    7130.0    3995.0    3925.0    4153.0   \n",
              "16   17719.0   18348.0   19498.0   20181.0   23688.0   29094.0   30674.0   \n",
              "17   11974.0   11956.0   11987.0   13831.0   15095.0   16330.0   16856.0   \n",
              "18     120.0     124.0     127.0     128.0     135.0     138.0     138.0   \n",
              "19    9023.0    9414.0    9518.0    9747.0    6713.0    7075.0    7577.0   \n",
              "\n",
              "     2011-12   2012-13   2013-14   2014-15   2015-16   2016-17   2017-18  \\\n",
              "0      780.0     741.0    1193.0     861.0     989.0    1032.0    1074.0   \n",
              "1   212103.0  222974.0  227875.0  130958.0  141743.0  158274.0  177776.0   \n",
              "2       53.0     439.0     400.0     417.0     427.0     495.0     550.0   \n",
              "3     4705.0    4710.0    4717.0    4728.0    4740.0    4771.0    4952.0   \n",
              "4     7552.0    8372.0    9308.0    9845.0   10021.0   11117.0   12185.0   \n",
              "5      181.0     170.0     173.0     169.0     167.0     154.0     160.0   \n",
              "6    12984.0   13704.0   14330.0   14732.0   15028.0   16638.0   17718.0   \n",
              "7       73.0      73.0      73.0      73.0      73.0      73.0      73.0   \n",
              "8       20.0      20.0      13.0      19.0       8.0       4.0       5.0   \n",
              "9        1.0    4710.0    4717.0    4843.0       0.0       0.0       0.0   \n",
              "10     149.0     458.0      60.0      75.0     352.0     292.0     299.0   \n",
              "11   14269.0   14558.0   15551.0   16565.0   17216.0   17940.0   17868.0   \n",
              "12   41142.0   42343.0   43591.0   45790.0   49133.0   52139.0   55855.0   \n",
              "13    1050.0    1069.0    1075.0    1084.0     812.0     959.0     981.0   \n",
              "14    6520.0    6715.0    6649.0    4958.0    2309.0    2305.0    2334.0   \n",
              "15    4313.0    4239.0    4445.0    4663.0    4833.0    5103.0    5531.0   \n",
              "16   34699.0   36773.0   41301.0   43968.0   47660.0   50671.0   55661.0   \n",
              "17   17049.0   22375.0   24769.0   25036.0   24425.0   23444.0   23481.0   \n",
              "18     140.0     140.0     129.0     126.0     144.0     147.0     142.0   \n",
              "19    7972.0    8711.0    9671.0   11776.0   14414.0   16940.0   19422.0   \n",
              "\n",
              "     2018-19   2019-20  \n",
              "0     1139.0    1189.0  \n",
              "1   197545.0  219275.0  \n",
              "2      595.0     605.0  \n",
              "3     5015.0    5149.0  \n",
              "4    17633.0   27408.0  \n",
              "5      164.0     125.0  \n",
              "6    18927.0   20289.0  \n",
              "7        0.0       0.0  \n",
              "8        5.0       5.0  \n",
              "9        0.0       0.0  \n",
              "10     327.0     400.0  \n",
              "11   18544.0   19274.0  \n",
              "12   60577.0   66153.0  \n",
              "13    1007.0    1066.0  \n",
              "14    2349.0    2216.0  \n",
              "15    6379.0    6928.0  \n",
              "16   59994.0   66511.0  \n",
              "17   22906.0   21845.0  \n",
              "18     142.0     153.0  \n",
              "19   21432.0   23794.0  "
            ],
            "text/html": [
              "\n",
              "  <div id=\"df-e269eceb-4b82-49eb-8e0d-6d4c64380edb\">\n",
              "    <div class=\"colab-df-container\">\n",
              "      <div>\n",
              "<style scoped>\n",
              "    .dataframe tbody tr th:only-of-type {\n",
              "        vertical-align: middle;\n",
              "    }\n",
              "\n",
              "    .dataframe tbody tr th {\n",
              "        vertical-align: top;\n",
              "    }\n",
              "\n",
              "    .dataframe thead th {\n",
              "        text-align: right;\n",
              "    }\n",
              "</style>\n",
              "<table border=\"1\" class=\"dataframe\">\n",
              "  <thead>\n",
              "    <tr style=\"text-align: right;\">\n",
              "      <th></th>\n",
              "      <th>2004-05</th>\n",
              "      <th>2005-06</th>\n",
              "      <th>2006-07</th>\n",
              "      <th>2007-08</th>\n",
              "      <th>2008-09</th>\n",
              "      <th>2009-10</th>\n",
              "      <th>2010-11</th>\n",
              "      <th>2011-12</th>\n",
              "      <th>2012-13</th>\n",
              "      <th>2013-14</th>\n",
              "      <th>2014-15</th>\n",
              "      <th>2015-16</th>\n",
              "      <th>2016-17</th>\n",
              "      <th>2017-18</th>\n",
              "      <th>2018-19</th>\n",
              "      <th>2019-20</th>\n",
              "    </tr>\n",
              "  </thead>\n",
              "  <tbody>\n",
              "    <tr>\n",
              "      <th>0</th>\n",
              "      <td>530.0</td>\n",
              "      <td>477.0</td>\n",
              "      <td>535.0</td>\n",
              "      <td>622.0</td>\n",
              "      <td>618.0</td>\n",
              "      <td>657.0</td>\n",
              "      <td>672.0</td>\n",
              "      <td>780.0</td>\n",
              "      <td>741.0</td>\n",
              "      <td>1193.0</td>\n",
              "      <td>861.0</td>\n",
              "      <td>989.0</td>\n",
              "      <td>1032.0</td>\n",
              "      <td>1074.0</td>\n",
              "      <td>1139.0</td>\n",
              "      <td>1189.0</td>\n",
              "    </tr>\n",
              "    <tr>\n",
              "      <th>1</th>\n",
              "      <td>158040.0</td>\n",
              "      <td>164534.0</td>\n",
              "      <td>159411.0</td>\n",
              "      <td>175884.0</td>\n",
              "      <td>183446.0</td>\n",
              "      <td>193958.0</td>\n",
              "      <td>201277.0</td>\n",
              "      <td>212103.0</td>\n",
              "      <td>222974.0</td>\n",
              "      <td>227875.0</td>\n",
              "      <td>130958.0</td>\n",
              "      <td>141743.0</td>\n",
              "      <td>158274.0</td>\n",
              "      <td>177776.0</td>\n",
              "      <td>197545.0</td>\n",
              "      <td>219275.0</td>\n",
              "    </tr>\n",
              "    <tr>\n",
              "      <th>2</th>\n",
              "      <td>90.0</td>\n",
              "      <td>73.0</td>\n",
              "      <td>73.0</td>\n",
              "      <td>394.0</td>\n",
              "      <td>361.0</td>\n",
              "      <td>380.0</td>\n",
              "      <td>407.0</td>\n",
              "      <td>53.0</td>\n",
              "      <td>439.0</td>\n",
              "      <td>400.0</td>\n",
              "      <td>417.0</td>\n",
              "      <td>427.0</td>\n",
              "      <td>495.0</td>\n",
              "      <td>550.0</td>\n",
              "      <td>595.0</td>\n",
              "      <td>605.0</td>\n",
              "    </tr>\n",
              "    <tr>\n",
              "      <th>3</th>\n",
              "      <td>5216.0</td>\n",
              "      <td>5359.0</td>\n",
              "      <td>5350.0</td>\n",
              "      <td>4910.0</td>\n",
              "      <td>4659.0</td>\n",
              "      <td>4671.0</td>\n",
              "      <td>4707.0</td>\n",
              "      <td>4705.0</td>\n",
              "      <td>4710.0</td>\n",
              "      <td>4717.0</td>\n",
              "      <td>4728.0</td>\n",
              "      <td>4740.0</td>\n",
              "      <td>4771.0</td>\n",
              "      <td>4952.0</td>\n",
              "      <td>5015.0</td>\n",
              "      <td>5149.0</td>\n",
              "    </tr>\n",
              "    <tr>\n",
              "      <th>4</th>\n",
              "      <td>7894.0</td>\n",
              "      <td>10012.0</td>\n",
              "      <td>9454.0</td>\n",
              "      <td>10707.0</td>\n",
              "      <td>10740.0</td>\n",
              "      <td>11002.0</td>\n",
              "      <td>7446.0</td>\n",
              "      <td>7552.0</td>\n",
              "      <td>8372.0</td>\n",
              "      <td>9308.0</td>\n",
              "      <td>9845.0</td>\n",
              "      <td>10021.0</td>\n",
              "      <td>11117.0</td>\n",
              "      <td>12185.0</td>\n",
              "      <td>17633.0</td>\n",
              "      <td>27408.0</td>\n",
              "    </tr>\n",
              "    <tr>\n",
              "      <th>5</th>\n",
              "      <td>280.0</td>\n",
              "      <td>280.0</td>\n",
              "      <td>291.0</td>\n",
              "      <td>9184.0</td>\n",
              "      <td>9738.0</td>\n",
              "      <td>249.0</td>\n",
              "      <td>180.0</td>\n",
              "      <td>181.0</td>\n",
              "      <td>170.0</td>\n",
              "      <td>173.0</td>\n",
              "      <td>169.0</td>\n",
              "      <td>167.0</td>\n",
              "      <td>154.0</td>\n",
              "      <td>160.0</td>\n",
              "      <td>164.0</td>\n",
              "      <td>125.0</td>\n",
              "    </tr>\n",
              "    <tr>\n",
              "      <th>6</th>\n",
              "      <td>8795.0</td>\n",
              "      <td>8875.0</td>\n",
              "      <td>9216.0</td>\n",
              "      <td>282.0</td>\n",
              "      <td>273.0</td>\n",
              "      <td>10520.0</td>\n",
              "      <td>12454.0</td>\n",
              "      <td>12984.0</td>\n",
              "      <td>13704.0</td>\n",
              "      <td>14330.0</td>\n",
              "      <td>14732.0</td>\n",
              "      <td>15028.0</td>\n",
              "      <td>16638.0</td>\n",
              "      <td>17718.0</td>\n",
              "      <td>18927.0</td>\n",
              "      <td>20289.0</td>\n",
              "    </tr>\n",
              "    <tr>\n",
              "      <th>7</th>\n",
              "      <td>50.0</td>\n",
              "      <td>48.0</td>\n",
              "      <td>0.0</td>\n",
              "      <td>70.0</td>\n",
              "      <td>71.0</td>\n",
              "      <td>71.0</td>\n",
              "      <td>70.0</td>\n",
              "      <td>73.0</td>\n",
              "      <td>73.0</td>\n",
              "      <td>73.0</td>\n",
              "      <td>73.0</td>\n",
              "      <td>73.0</td>\n",
              "      <td>73.0</td>\n",
              "      <td>73.0</td>\n",
              "      <td>0.0</td>\n",
              "      <td>0.0</td>\n",
              "    </tr>\n",
              "    <tr>\n",
              "      <th>8</th>\n",
              "      <td>9.0</td>\n",
              "      <td>11.0</td>\n",
              "      <td>11.0</td>\n",
              "      <td>19.0</td>\n",
              "      <td>19.0</td>\n",
              "      <td>19.0</td>\n",
              "      <td>19.0</td>\n",
              "      <td>20.0</td>\n",
              "      <td>20.0</td>\n",
              "      <td>13.0</td>\n",
              "      <td>19.0</td>\n",
              "      <td>8.0</td>\n",
              "      <td>4.0</td>\n",
              "      <td>5.0</td>\n",
              "      <td>5.0</td>\n",
              "      <td>5.0</td>\n",
              "    </tr>\n",
              "    <tr>\n",
              "      <th>9</th>\n",
              "      <td>264.0</td>\n",
              "      <td>196.0</td>\n",
              "      <td>186.0</td>\n",
              "      <td>1.0</td>\n",
              "      <td>1.0</td>\n",
              "      <td>1.0</td>\n",
              "      <td>1.0</td>\n",
              "      <td>1.0</td>\n",
              "      <td>4710.0</td>\n",
              "      <td>4717.0</td>\n",
              "      <td>4843.0</td>\n",
              "      <td>0.0</td>\n",
              "      <td>0.0</td>\n",
              "      <td>0.0</td>\n",
              "      <td>0.0</td>\n",
              "      <td>0.0</td>\n",
              "    </tr>\n",
              "    <tr>\n",
              "      <th>10</th>\n",
              "      <td>146.0</td>\n",
              "      <td>146.0</td>\n",
              "      <td>135.0</td>\n",
              "      <td>152.0</td>\n",
              "      <td>149.0</td>\n",
              "      <td>148.0</td>\n",
              "      <td>149.0</td>\n",
              "      <td>149.0</td>\n",
              "      <td>458.0</td>\n",
              "      <td>60.0</td>\n",
              "      <td>75.0</td>\n",
              "      <td>352.0</td>\n",
              "      <td>292.0</td>\n",
              "      <td>299.0</td>\n",
              "      <td>327.0</td>\n",
              "      <td>400.0</td>\n",
              "    </tr>\n",
              "    <tr>\n",
              "      <th>11</th>\n",
              "      <td>5031.0</td>\n",
              "      <td>5775.0</td>\n",
              "      <td>7757.0</td>\n",
              "      <td>8256.0</td>\n",
              "      <td>12675.0</td>\n",
              "      <td>12762.0</td>\n",
              "      <td>13269.0</td>\n",
              "      <td>14269.0</td>\n",
              "      <td>14558.0</td>\n",
              "      <td>15551.0</td>\n",
              "      <td>16565.0</td>\n",
              "      <td>17216.0</td>\n",
              "      <td>17940.0</td>\n",
              "      <td>17868.0</td>\n",
              "      <td>18544.0</td>\n",
              "      <td>19274.0</td>\n",
              "    </tr>\n",
              "    <tr>\n",
              "      <th>12</th>\n",
              "      <td>14816.0</td>\n",
              "      <td>15126.0</td>\n",
              "      <td>39596.0</td>\n",
              "      <td>41031.0</td>\n",
              "      <td>38150.0</td>\n",
              "      <td>38453.0</td>\n",
              "      <td>39644.0</td>\n",
              "      <td>41142.0</td>\n",
              "      <td>42343.0</td>\n",
              "      <td>43591.0</td>\n",
              "      <td>45790.0</td>\n",
              "      <td>49133.0</td>\n",
              "      <td>52139.0</td>\n",
              "      <td>55855.0</td>\n",
              "      <td>60577.0</td>\n",
              "      <td>66153.0</td>\n",
              "    </tr>\n",
              "    <tr>\n",
              "      <th>13</th>\n",
              "      <td>811.0</td>\n",
              "      <td>753.0</td>\n",
              "      <td>772.0</td>\n",
              "      <td>843.0</td>\n",
              "      <td>977.0</td>\n",
              "      <td>1000.0</td>\n",
              "      <td>1021.0</td>\n",
              "      <td>1050.0</td>\n",
              "      <td>1069.0</td>\n",
              "      <td>1075.0</td>\n",
              "      <td>1084.0</td>\n",
              "      <td>812.0</td>\n",
              "      <td>959.0</td>\n",
              "      <td>981.0</td>\n",
              "      <td>1007.0</td>\n",
              "      <td>1066.0</td>\n",
              "    </tr>\n",
              "    <tr>\n",
              "      <th>14</th>\n",
              "      <td>6105.0</td>\n",
              "      <td>6320.0</td>\n",
              "      <td>6320.0</td>\n",
              "      <td>6682.0</td>\n",
              "      <td>7208.0</td>\n",
              "      <td>7242.0</td>\n",
              "      <td>7725.0</td>\n",
              "      <td>6520.0</td>\n",
              "      <td>6715.0</td>\n",
              "      <td>6649.0</td>\n",
              "      <td>4958.0</td>\n",
              "      <td>2309.0</td>\n",
              "      <td>2305.0</td>\n",
              "      <td>2334.0</td>\n",
              "      <td>2349.0</td>\n",
              "      <td>2216.0</td>\n",
              "    </tr>\n",
              "    <tr>\n",
              "      <th>15</th>\n",
              "      <td>6980.0</td>\n",
              "      <td>6970.0</td>\n",
              "      <td>7110.0</td>\n",
              "      <td>7130.0</td>\n",
              "      <td>3995.0</td>\n",
              "      <td>3925.0</td>\n",
              "      <td>4153.0</td>\n",
              "      <td>4313.0</td>\n",
              "      <td>4239.0</td>\n",
              "      <td>4445.0</td>\n",
              "      <td>4663.0</td>\n",
              "      <td>4833.0</td>\n",
              "      <td>5103.0</td>\n",
              "      <td>5531.0</td>\n",
              "      <td>6379.0</td>\n",
              "      <td>6928.0</td>\n",
              "    </tr>\n",
              "    <tr>\n",
              "      <th>16</th>\n",
              "      <td>17719.0</td>\n",
              "      <td>18348.0</td>\n",
              "      <td>19498.0</td>\n",
              "      <td>20181.0</td>\n",
              "      <td>23688.0</td>\n",
              "      <td>29094.0</td>\n",
              "      <td>30674.0</td>\n",
              "      <td>34699.0</td>\n",
              "      <td>36773.0</td>\n",
              "      <td>41301.0</td>\n",
              "      <td>43968.0</td>\n",
              "      <td>47660.0</td>\n",
              "      <td>50671.0</td>\n",
              "      <td>55661.0</td>\n",
              "      <td>59994.0</td>\n",
              "      <td>66511.0</td>\n",
              "    </tr>\n",
              "    <tr>\n",
              "      <th>17</th>\n",
              "      <td>11974.0</td>\n",
              "      <td>11956.0</td>\n",
              "      <td>11987.0</td>\n",
              "      <td>13831.0</td>\n",
              "      <td>15095.0</td>\n",
              "      <td>16330.0</td>\n",
              "      <td>16856.0</td>\n",
              "      <td>17049.0</td>\n",
              "      <td>22375.0</td>\n",
              "      <td>24769.0</td>\n",
              "      <td>25036.0</td>\n",
              "      <td>24425.0</td>\n",
              "      <td>23444.0</td>\n",
              "      <td>23481.0</td>\n",
              "      <td>22906.0</td>\n",
              "      <td>21845.0</td>\n",
              "    </tr>\n",
              "    <tr>\n",
              "      <th>18</th>\n",
              "      <td>120.0</td>\n",
              "      <td>124.0</td>\n",
              "      <td>127.0</td>\n",
              "      <td>128.0</td>\n",
              "      <td>135.0</td>\n",
              "      <td>138.0</td>\n",
              "      <td>138.0</td>\n",
              "      <td>140.0</td>\n",
              "      <td>140.0</td>\n",
              "      <td>129.0</td>\n",
              "      <td>126.0</td>\n",
              "      <td>144.0</td>\n",
              "      <td>147.0</td>\n",
              "      <td>142.0</td>\n",
              "      <td>142.0</td>\n",
              "      <td>153.0</td>\n",
              "    </tr>\n",
              "    <tr>\n",
              "      <th>19</th>\n",
              "      <td>9023.0</td>\n",
              "      <td>9414.0</td>\n",
              "      <td>9518.0</td>\n",
              "      <td>9747.0</td>\n",
              "      <td>6713.0</td>\n",
              "      <td>7075.0</td>\n",
              "      <td>7577.0</td>\n",
              "      <td>7972.0</td>\n",
              "      <td>8711.0</td>\n",
              "      <td>9671.0</td>\n",
              "      <td>11776.0</td>\n",
              "      <td>14414.0</td>\n",
              "      <td>16940.0</td>\n",
              "      <td>19422.0</td>\n",
              "      <td>21432.0</td>\n",
              "      <td>23794.0</td>\n",
              "    </tr>\n",
              "  </tbody>\n",
              "</table>\n",
              "</div>\n",
              "      <button class=\"colab-df-convert\" onclick=\"convertToInteractive('df-e269eceb-4b82-49eb-8e0d-6d4c64380edb')\"\n",
              "              title=\"Convert this dataframe to an interactive table.\"\n",
              "              style=\"display:none;\">\n",
              "        \n",
              "  <svg xmlns=\"http://www.w3.org/2000/svg\" height=\"24px\"viewBox=\"0 0 24 24\"\n",
              "       width=\"24px\">\n",
              "    <path d=\"M0 0h24v24H0V0z\" fill=\"none\"/>\n",
              "    <path d=\"M18.56 5.44l.94 2.06.94-2.06 2.06-.94-2.06-.94-.94-2.06-.94 2.06-2.06.94zm-11 1L8.5 8.5l.94-2.06 2.06-.94-2.06-.94L8.5 2.5l-.94 2.06-2.06.94zm10 10l.94 2.06.94-2.06 2.06-.94-2.06-.94-.94-2.06-.94 2.06-2.06.94z\"/><path d=\"M17.41 7.96l-1.37-1.37c-.4-.4-.92-.59-1.43-.59-.52 0-1.04.2-1.43.59L10.3 9.45l-7.72 7.72c-.78.78-.78 2.05 0 2.83L4 21.41c.39.39.9.59 1.41.59.51 0 1.02-.2 1.41-.59l7.78-7.78 2.81-2.81c.8-.78.8-2.07 0-2.86zM5.41 20L4 18.59l7.72-7.72 1.47 1.35L5.41 20z\"/>\n",
              "  </svg>\n",
              "      </button>\n",
              "      \n",
              "  <style>\n",
              "    .colab-df-container {\n",
              "      display:flex;\n",
              "      flex-wrap:wrap;\n",
              "      gap: 12px;\n",
              "    }\n",
              "\n",
              "    .colab-df-convert {\n",
              "      background-color: #E8F0FE;\n",
              "      border: none;\n",
              "      border-radius: 50%;\n",
              "      cursor: pointer;\n",
              "      display: none;\n",
              "      fill: #1967D2;\n",
              "      height: 32px;\n",
              "      padding: 0 0 0 0;\n",
              "      width: 32px;\n",
              "    }\n",
              "\n",
              "    .colab-df-convert:hover {\n",
              "      background-color: #E2EBFA;\n",
              "      box-shadow: 0px 1px 2px rgba(60, 64, 67, 0.3), 0px 1px 3px 1px rgba(60, 64, 67, 0.15);\n",
              "      fill: #174EA6;\n",
              "    }\n",
              "\n",
              "    [theme=dark] .colab-df-convert {\n",
              "      background-color: #3B4455;\n",
              "      fill: #D2E3FC;\n",
              "    }\n",
              "\n",
              "    [theme=dark] .colab-df-convert:hover {\n",
              "      background-color: #434B5C;\n",
              "      box-shadow: 0px 1px 3px 1px rgba(0, 0, 0, 0.15);\n",
              "      filter: drop-shadow(0px 1px 2px rgba(0, 0, 0, 0.3));\n",
              "      fill: #FFFFFF;\n",
              "    }\n",
              "  </style>\n",
              "\n",
              "      <script>\n",
              "        const buttonEl =\n",
              "          document.querySelector('#df-e269eceb-4b82-49eb-8e0d-6d4c64380edb button.colab-df-convert');\n",
              "        buttonEl.style.display =\n",
              "          google.colab.kernel.accessAllowed ? 'block' : 'none';\n",
              "\n",
              "        async function convertToInteractive(key) {\n",
              "          const element = document.querySelector('#df-e269eceb-4b82-49eb-8e0d-6d4c64380edb');\n",
              "          const dataTable =\n",
              "            await google.colab.kernel.invokeFunction('convertToInteractive',\n",
              "                                                     [key], {});\n",
              "          if (!dataTable) return;\n",
              "\n",
              "          const docLinkHtml = 'Like what you see? Visit the ' +\n",
              "            '<a target=\"_blank\" href=https://colab.research.google.com/notebooks/data_table.ipynb>data table notebook</a>'\n",
              "            + ' to learn more about interactive tables.';\n",
              "          element.innerHTML = '';\n",
              "          dataTable['output_type'] = 'display_data';\n",
              "          await google.colab.output.renderOutput(dataTable, element);\n",
              "          const docLink = document.createElement('div');\n",
              "          docLink.innerHTML = docLinkHtml;\n",
              "          element.appendChild(docLink);\n",
              "        }\n",
              "      </script>\n",
              "    </div>\n",
              "  </div>\n",
              "  "
            ]
          },
          "metadata": {},
          "execution_count": 161
        }
      ]
    },
    {
      "cell_type": "code",
      "source": [
        "plt.boxplot(data['2004-05'])\n",
        "plt.title('Box plot of 2004-05')"
      ],
      "metadata": {
        "id": "0L2yH73TbsOo",
        "colab": {
          "base_uri": "https://localhost:8080/",
          "height": 469
        },
        "outputId": "f62f6bcc-3ea0-4ea8-87f4-c6d7cd2bb115"
      },
      "execution_count": null,
      "outputs": [
        {
          "output_type": "execute_result",
          "data": {
            "text/plain": [
              "Text(0.5, 1.0, 'Box plot of 2004-05')"
            ]
          },
          "metadata": {},
          "execution_count": 162
        },
        {
          "output_type": "display_data",
          "data": {
            "text/plain": [
              "<Figure size 640x480 with 1 Axes>"
            ],
            "image/png": "[encoded data removed]"
          },
          "metadata": {}
        }
      ]
    },
    {
      "cell_type": "markdown",
      "source": [
        "# **2005-06**\n"
      ],
      "metadata": {
        "id": "781QfRng6uDf"
      }
    },
    {
      "cell_type": "code",
      "source": [],
      "metadata": {
        "id": "C93C0nN26x3k"
      },
      "execution_count": null,
      "outputs": []
    },
    {
      "cell_type": "code",
      "source": [
        "q1=np.percentile(data['2005-06'],25,interpolation='midpoint')\n",
        "q2=np.percentile(data['2005-06'],50,interpolation='midpoint')\n",
        "q3=np.percentile(data['2005-06'],75,interpolation='midpoint')"
      ],
      "metadata": {
        "colab": {
          "base_uri": "https://localhost:8080/"
        },
        "outputId": "81c3be2f-e14c-45d0-f03b-f8fa6b8bed01",
        "id": "farG8dze6620"
      },
      "execution_count": null,
      "outputs": [
        {
          "output_type": "stream",
          "name": "stderr",
          "text": [
            "<ipython-input-164-e0259c0945ba>:1: DeprecationWarning: the `interpolation=` argument to percentile was renamed to `method=`, which has additional options.\n",
            "Users of the modes 'nearest', 'lower', 'higher', or 'midpoint' are encouraged to review the method they. (Deprecated NumPy 1.22)\n",
            "  q1=np.percentile(data['2005-06'],25,interpolation='midpoint')\n",
            "<ipython-input-164-e0259c0945ba>:2: DeprecationWarning: the `interpolation=` argument to percentile was renamed to `method=`, which has additional options.\n",
            "Users of the modes 'nearest', 'lower', 'higher', or 'midpoint' are encouraged to review the method they. (Deprecated NumPy 1.22)\n",
            "  q2=np.percentile(data['2005-06'],50,interpolation='midpoint')\n",
            "<ipython-input-164-e0259c0945ba>:3: DeprecationWarning: the `interpolation=` argument to percentile was renamed to `method=`, which has additional options.\n",
            "Users of the modes 'nearest', 'lower', 'higher', or 'midpoint' are encouraged to review the method they. (Deprecated NumPy 1.22)\n",
            "  q3=np.percentile(data['2005-06'],75,interpolation='midpoint')\n"
          ]
        }
      ]
    },
    {
      "cell_type": "code",
      "source": [
        "print(q1)\n",
        "print(q2)\n",
        "print(q3)"
      ],
      "metadata": {
        "colab": {
          "base_uri": "https://localhost:8080/"
        },
        "outputId": "de542a43-91ce-4570-aac3-79c1b992b57f",
        "id": "J9ZTD3Cv6621"
      },
      "execution_count": null,
      "outputs": [
        {
          "output_type": "stream",
          "name": "stdout",
          "text": [
            "401.5\n",
            "5567.0\n",
            "10984.0\n"
          ]
        }
      ]
    },
    {
      "cell_type": "code",
      "source": [
        "data['2005-06'].median()"
      ],
      "metadata": {
        "colab": {
          "base_uri": "https://localhost:8080/"
        },
        "outputId": "e24d2103-a8dd-4475-eb99-6a695f28795e",
        "id": "A5FTDF3J6622"
      },
      "execution_count": null,
      "outputs": [
        {
          "output_type": "execute_result",
          "data": {
            "text/plain": [
              "5567.0"
            ]
          },
          "metadata": {},
          "execution_count": 166
        }
      ]
    },
    {
      "cell_type": "code",
      "source": [
        "\n",
        "IQR=q3-q1"
      ],
      "metadata": {
        "id": "qtMzg8CJ6622"
      },
      "execution_count": null,
      "outputs": []
    },
    {
      "cell_type": "code",
      "source": [
        "IQR\n"
      ],
      "metadata": {
        "colab": {
          "base_uri": "https://localhost:8080/"
        },
        "outputId": "0f65a0d4-9ee0-4094-98a2-fea3b4ab8df4",
        "id": "LdqK01x06622"
      },
      "execution_count": null,
      "outputs": [
        {
          "output_type": "execute_result",
          "data": {
            "text/plain": [
              "10582.5"
            ]
          },
          "metadata": {},
          "execution_count": 168
        }
      ]
    },
    {
      "cell_type": "code",
      "source": [
        "low_lim=q1-1.5*IQR\n",
        "up_lim=q3+1.5*IQR"
      ],
      "metadata": {
        "id": "K2cKFsyX6623"
      },
      "execution_count": null,
      "outputs": []
    },
    {
      "cell_type": "code",
      "source": [
        "low_lim"
      ],
      "metadata": {
        "colab": {
          "base_uri": "https://localhost:8080/"
        },
        "outputId": "e71a7bd6-71be-44aa-da64-782abe5db4bd",
        "id": "w3e55g1g6623"
      },
      "execution_count": null,
      "outputs": [
        {
          "output_type": "execute_result",
          "data": {
            "text/plain": [
              "-15472.25"
            ]
          },
          "metadata": {},
          "execution_count": 170
        }
      ]
    },
    {
      "cell_type": "code",
      "source": [
        "up_lim"
      ],
      "metadata": {
        "colab": {
          "base_uri": "https://localhost:8080/"
        },
        "outputId": "ed39657f-74e5-4f5e-f4d1-d229f3aaf141",
        "id": "Ipcq4etR6623"
      },
      "execution_count": null,
      "outputs": [
        {
          "output_type": "execute_result",
          "data": {
            "text/plain": [
              "26857.75"
            ]
          },
          "metadata": {},
          "execution_count": 171
        }
      ]
    },
    {
      "cell_type": "code",
      "source": [
        "outlier=[]\n",
        "for x in data['2005-06']:\n",
        "  if((x>up_lim)or(x<low_lim)):\n",
        "        outlier.append(x)"
      ],
      "metadata": {
        "id": "5adB6s-A6624"
      },
      "execution_count": null,
      "outputs": []
    },
    {
      "cell_type": "code",
      "source": [
        "outlier"
      ],
      "metadata": {
        "colab": {
          "base_uri": "https://localhost:8080/"
        },
        "outputId": "7f1986f5-9ce7-4943-9f16-77da7c68d4d9",
        "id": "MnGbuA2e6624"
      },
      "execution_count": null,
      "outputs": [
        {
          "output_type": "execute_result",
          "data": {
            "text/plain": [
              "[164534.0, 35227.0, 35200.0, 62225.0, 29637.0, 462307.0]"
            ]
          },
          "metadata": {},
          "execution_count": 173
        }
      ]
    },
    {
      "cell_type": "code",
      "source": [
        "ind1 = data['2005-06']<low_lim\n",
        "data.loc[ind1].index"
      ],
      "metadata": {
        "colab": {
          "base_uri": "https://localhost:8080/"
        },
        "outputId": "8d3f7b97-6e29-4ed0-acf4-30ebb8a56031",
        "id": "qW0zCYx16624"
      },
      "execution_count": null,
      "outputs": [
        {
          "output_type": "execute_result",
          "data": {
            "text/plain": [
              "Int64Index([], dtype='int64')"
            ]
          },
          "metadata": {},
          "execution_count": 174
        }
      ]
    },
    {
      "cell_type": "code",
      "source": [
        "ind2 = data['2005-06']>up_lim\n",
        "data.loc[ind2].index"
      ],
      "metadata": {
        "colab": {
          "base_uri": "https://localhost:8080/"
        },
        "outputId": "8d3c36ae-13e3-4c65-f007-817180e0bf89",
        "id": "jY6QYOe_6625"
      },
      "execution_count": null,
      "outputs": [
        {
          "output_type": "execute_result",
          "data": {
            "text/plain": [
              "Int64Index([1, 20, 27, 30, 35, 36], dtype='int64')"
            ]
          },
          "metadata": {},
          "execution_count": 175
        }
      ]
    },
    {
      "cell_type": "code",
      "source": [
        "ind2"
      ],
      "metadata": {
        "colab": {
          "base_uri": "https://localhost:8080/"
        },
        "outputId": "35fb257f-6088-490f-f4c1-f50659492faa",
        "id": "TtrLcv2J6625"
      },
      "execution_count": null,
      "outputs": [
        {
          "output_type": "execute_result",
          "data": {
            "text/plain": [
              "0     False\n",
              "1      True\n",
              "2     False\n",
              "3     False\n",
              "4     False\n",
              "5     False\n",
              "6     False\n",
              "7     False\n",
              "8     False\n",
              "9     False\n",
              "10    False\n",
              "11    False\n",
              "12    False\n",
              "13    False\n",
              "14    False\n",
              "15    False\n",
              "16    False\n",
              "17    False\n",
              "18    False\n",
              "19    False\n",
              "20     True\n",
              "21    False\n",
              "22    False\n",
              "23    False\n",
              "24    False\n",
              "25    False\n",
              "26    False\n",
              "27     True\n",
              "28    False\n",
              "29    False\n",
              "30     True\n",
              "31    False\n",
              "32    False\n",
              "33    False\n",
              "34    False\n",
              "35     True\n",
              "36     True\n",
              "37    False\n",
              "Name: 2005-06, dtype: bool"
            ]
          },
          "metadata": {},
          "execution_count": 176
        }
      ]
    },
    {
      "cell_type": "code",
      "source": [
        "ind1"
      ],
      "metadata": {
        "colab": {
          "base_uri": "https://localhost:8080/"
        },
        "outputId": "336cbd9d-8aa5-4f00-d9d6-a6c6a85b8da0",
        "id": "TJZk-FVB6625"
      },
      "execution_count": null,
      "outputs": [
        {
          "output_type": "execute_result",
          "data": {
            "text/plain": [
              "0     False\n",
              "1     False\n",
              "2     False\n",
              "3     False\n",
              "4     False\n",
              "5     False\n",
              "6     False\n",
              "7     False\n",
              "8     False\n",
              "9     False\n",
              "10    False\n",
              "11    False\n",
              "12    False\n",
              "13    False\n",
              "14    False\n",
              "15    False\n",
              "16    False\n",
              "17    False\n",
              "18    False\n",
              "19    False\n",
              "20    False\n",
              "21    False\n",
              "22    False\n",
              "23    False\n",
              "24    False\n",
              "25    False\n",
              "26    False\n",
              "27    False\n",
              "28    False\n",
              "29    False\n",
              "30    False\n",
              "31    False\n",
              "32    False\n",
              "33    False\n",
              "34    False\n",
              "35    False\n",
              "36    False\n",
              "37    False\n",
              "Name: 2005-06, dtype: bool"
            ]
          },
          "metadata": {},
          "execution_count": 177
        }
      ]
    },
    {
      "cell_type": "code",
      "source": [
        "data.head(20)\n"
      ],
      "metadata": {
        "colab": {
          "base_uri": "https://localhost:8080/",
          "height": 757
        },
        "outputId": "fc4c1b97-b856-408f-e933-a7eca2ae7822",
        "id": "CmtognhJ6626"
      },
      "execution_count": null,
      "outputs": [
        {
          "output_type": "execute_result",
          "data": {
            "text/plain": [
              "     2004-05   2005-06   2006-07   2007-08   2008-09   2009-10   2010-11  \\\n",
              "0      530.0     477.0     535.0     622.0     618.0     657.0     672.0   \n",
              "1   158040.0  164534.0  159411.0  175884.0  183446.0  193958.0  201277.0   \n",
              "2       90.0      73.0      73.0     394.0     361.0     380.0     407.0   \n",
              "3     5216.0    5359.0    5350.0    4910.0    4659.0    4671.0    4707.0   \n",
              "4     7894.0   10012.0    9454.0   10707.0   10740.0   11002.0    7446.0   \n",
              "5      280.0     280.0     291.0    9184.0    9738.0     249.0     180.0   \n",
              "6     8795.0    8875.0    9216.0     282.0     273.0   10520.0   12454.0   \n",
              "7       50.0      48.0       0.0      70.0      71.0      71.0      70.0   \n",
              "8        9.0      11.0      11.0      19.0      19.0      19.0      19.0   \n",
              "9      264.0     196.0     186.0       1.0       1.0       1.0       1.0   \n",
              "10     146.0     146.0     135.0     152.0     149.0     148.0     149.0   \n",
              "11    5031.0    5775.0    7757.0    8256.0   12675.0   12762.0   13269.0   \n",
              "12   14816.0   15126.0   39596.0   41031.0   38150.0   38453.0   39644.0   \n",
              "13     811.0     753.0     772.0     843.0     977.0    1000.0    1021.0   \n",
              "14    6105.0    6320.0    6320.0    6682.0    7208.0    7242.0    7725.0   \n",
              "15    6980.0    6970.0    7110.0    7130.0    3995.0    3925.0    4153.0   \n",
              "16   17719.0   18348.0   19498.0   20181.0   23688.0   29094.0   30674.0   \n",
              "17   11974.0   11956.0   11987.0   13831.0   15095.0   16330.0   16856.0   \n",
              "18     120.0     124.0     127.0     128.0     135.0     138.0     138.0   \n",
              "19    9023.0    9414.0    9518.0    9747.0    6713.0    7075.0    7577.0   \n",
              "\n",
              "     2011-12   2012-13   2013-14   2014-15   2015-16   2016-17   2017-18  \\\n",
              "0      780.0     741.0    1193.0     861.0     989.0    1032.0    1074.0   \n",
              "1   212103.0  222974.0  227875.0  130958.0  141743.0  158274.0  177776.0   \n",
              "2       53.0     439.0     400.0     417.0     427.0     495.0     550.0   \n",
              "3     4705.0    4710.0    4717.0    4728.0    4740.0    4771.0    4952.0   \n",
              "4     7552.0    8372.0    9308.0    9845.0   10021.0   11117.0   12185.0   \n",
              "5      181.0     170.0     173.0     169.0     167.0     154.0     160.0   \n",
              "6    12984.0   13704.0   14330.0   14732.0   15028.0   16638.0   17718.0   \n",
              "7       73.0      73.0      73.0      73.0      73.0      73.0      73.0   \n",
              "8       20.0      20.0      13.0      19.0       8.0       4.0       5.0   \n",
              "9        1.0    4710.0    4717.0    4843.0       0.0       0.0       0.0   \n",
              "10     149.0     458.0      60.0      75.0     352.0     292.0     299.0   \n",
              "11   14269.0   14558.0   15551.0   16565.0   17216.0   17940.0   17868.0   \n",
              "12   41142.0   42343.0   43591.0   45790.0   49133.0   52139.0   55855.0   \n",
              "13    1050.0    1069.0    1075.0    1084.0     812.0     959.0     981.0   \n",
              "14    6520.0    6715.0    6649.0    4958.0    2309.0    2305.0    2334.0   \n",
              "15    4313.0    4239.0    4445.0    4663.0    4833.0    5103.0    5531.0   \n",
              "16   34699.0   36773.0   41301.0   43968.0   47660.0   50671.0   55661.0   \n",
              "17   17049.0   22375.0   24769.0   25036.0   24425.0   23444.0   23481.0   \n",
              "18     140.0     140.0     129.0     126.0     144.0     147.0     142.0   \n",
              "19    7972.0    8711.0    9671.0   11776.0   14414.0   16940.0   19422.0   \n",
              "\n",
              "     2018-19   2019-20  \n",
              "0     1139.0    1189.0  \n",
              "1   197545.0  219275.0  \n",
              "2      595.0     605.0  \n",
              "3     5015.0    5149.0  \n",
              "4    17633.0   27408.0  \n",
              "5      164.0     125.0  \n",
              "6    18927.0   20289.0  \n",
              "7        0.0       0.0  \n",
              "8        5.0       5.0  \n",
              "9        0.0       0.0  \n",
              "10     327.0     400.0  \n",
              "11   18544.0   19274.0  \n",
              "12   60577.0   66153.0  \n",
              "13    1007.0    1066.0  \n",
              "14    2349.0    2216.0  \n",
              "15    6379.0    6928.0  \n",
              "16   59994.0   66511.0  \n",
              "17   22906.0   21845.0  \n",
              "18     142.0     153.0  \n",
              "19   21432.0   23794.0  "
            ],
            "text/html": [
              "\n",
              "  <div id=\"df-ca81b629-0451-46dc-a23b-720b59434be3\">\n",
              "    <div class=\"colab-df-container\">\n",
              "      <div>\n",
              "<style scoped>\n",
              "    .dataframe tbody tr th:only-of-type {\n",
              "        vertical-align: middle;\n",
              "    }\n",
              "\n",
              "    .dataframe tbody tr th {\n",
              "        vertical-align: top;\n",
              "    }\n",
              "\n",
              "    .dataframe thead th {\n",
              "        text-align: right;\n",
              "    }\n",
              "</style>\n",
              "<table border=\"1\" class=\"dataframe\">\n",
              "  <thead>\n",
              "    <tr style=\"text-align: right;\">\n",
              "      <th></th>\n",
              "      <th>2004-05</th>\n",
              "      <th>2005-06</th>\n",
              "      <th>2006-07</th>\n",
              "      <th>2007-08</th>\n",
              "      <th>2008-09</th>\n",
              "      <th>2009-10</th>\n",
              "      <th>2010-11</th>\n",
              "      <th>2011-12</th>\n",
              "      <th>2012-13</th>\n",
              "      <th>2013-14</th>\n",
              "      <th>2014-15</th>\n",
              "      <th>2015-16</th>\n",
              "      <th>2016-17</th>\n",
              "      <th>2017-18</th>\n",
              "      <th>2018-19</th>\n",
              "      <th>2019-20</th>\n",
              "    </tr>\n",
              "  </thead>\n",
              "  <tbody>\n",
              "    <tr>\n",
              "      <th>0</th>\n",
              "      <td>530.0</td>\n",
              "      <td>477.0</td>\n",
              "      <td>535.0</td>\n",
              "      <td>622.0</td>\n",
              "      <td>618.0</td>\n",
              "      <td>657.0</td>\n",
              "      <td>672.0</td>\n",
              "      <td>780.0</td>\n",
              "      <td>741.0</td>\n",
              "      <td>1193.0</td>\n",
              "      <td>861.0</td>\n",
              "      <td>989.0</td>\n",
              "      <td>1032.0</td>\n",
              "      <td>1074.0</td>\n",
              "      <td>1139.0</td>\n",
              "      <td>1189.0</td>\n",
              "    </tr>\n",
              "    <tr>\n",
              "      <th>1</th>\n",
              "      <td>158040.0</td>\n",
              "      <td>164534.0</td>\n",
              "      <td>159411.0</td>\n",
              "      <td>175884.0</td>\n",
              "      <td>183446.0</td>\n",
              "      <td>193958.0</td>\n",
              "      <td>201277.0</td>\n",
              "      <td>212103.0</td>\n",
              "      <td>222974.0</td>\n",
              "      <td>227875.0</td>\n",
              "      <td>130958.0</td>\n",
              "      <td>141743.0</td>\n",
              "      <td>158274.0</td>\n",
              "      <td>177776.0</td>\n",
              "      <td>197545.0</td>\n",
              "      <td>219275.0</td>\n",
              "    </tr>\n",
              "    <tr>\n",
              "      <th>2</th>\n",
              "      <td>90.0</td>\n",
              "      <td>73.0</td>\n",
              "      <td>73.0</td>\n",
              "      <td>394.0</td>\n",
              "      <td>361.0</td>\n",
              "      <td>380.0</td>\n",
              "      <td>407.0</td>\n",
              "      <td>53.0</td>\n",
              "      <td>439.0</td>\n",
              "      <td>400.0</td>\n",
              "      <td>417.0</td>\n",
              "      <td>427.0</td>\n",
              "      <td>495.0</td>\n",
              "      <td>550.0</td>\n",
              "      <td>595.0</td>\n",
              "      <td>605.0</td>\n",
              "    </tr>\n",
              "    <tr>\n",
              "      <th>3</th>\n",
              "      <td>5216.0</td>\n",
              "      <td>5359.0</td>\n",
              "      <td>5350.0</td>\n",
              "      <td>4910.0</td>\n",
              "      <td>4659.0</td>\n",
              "      <td>4671.0</td>\n",
              "      <td>4707.0</td>\n",
              "      <td>4705.0</td>\n",
              "      <td>4710.0</td>\n",
              "      <td>4717.0</td>\n",
              "      <td>4728.0</td>\n",
              "      <td>4740.0</td>\n",
              "      <td>4771.0</td>\n",
              "      <td>4952.0</td>\n",
              "      <td>5015.0</td>\n",
              "      <td>5149.0</td>\n",
              "    </tr>\n",
              "    <tr>\n",
              "      <th>4</th>\n",
              "      <td>7894.0</td>\n",
              "      <td>10012.0</td>\n",
              "      <td>9454.0</td>\n",
              "      <td>10707.0</td>\n",
              "      <td>10740.0</td>\n",
              "      <td>11002.0</td>\n",
              "      <td>7446.0</td>\n",
              "      <td>7552.0</td>\n",
              "      <td>8372.0</td>\n",
              "      <td>9308.0</td>\n",
              "      <td>9845.0</td>\n",
              "      <td>10021.0</td>\n",
              "      <td>11117.0</td>\n",
              "      <td>12185.0</td>\n",
              "      <td>17633.0</td>\n",
              "      <td>27408.0</td>\n",
              "    </tr>\n",
              "    <tr>\n",
              "      <th>5</th>\n",
              "      <td>280.0</td>\n",
              "      <td>280.0</td>\n",
              "      <td>291.0</td>\n",
              "      <td>9184.0</td>\n",
              "      <td>9738.0</td>\n",
              "      <td>249.0</td>\n",
              "      <td>180.0</td>\n",
              "      <td>181.0</td>\n",
              "      <td>170.0</td>\n",
              "      <td>173.0</td>\n",
              "      <td>169.0</td>\n",
              "      <td>167.0</td>\n",
              "      <td>154.0</td>\n",
              "      <td>160.0</td>\n",
              "      <td>164.0</td>\n",
              "      <td>125.0</td>\n",
              "    </tr>\n",
              "    <tr>\n",
              "      <th>6</th>\n",
              "      <td>8795.0</td>\n",
              "      <td>8875.0</td>\n",
              "      <td>9216.0</td>\n",
              "      <td>282.0</td>\n",
              "      <td>273.0</td>\n",
              "      <td>10520.0</td>\n",
              "      <td>12454.0</td>\n",
              "      <td>12984.0</td>\n",
              "      <td>13704.0</td>\n",
              "      <td>14330.0</td>\n",
              "      <td>14732.0</td>\n",
              "      <td>15028.0</td>\n",
              "      <td>16638.0</td>\n",
              "      <td>17718.0</td>\n",
              "      <td>18927.0</td>\n",
              "      <td>20289.0</td>\n",
              "    </tr>\n",
              "    <tr>\n",
              "      <th>7</th>\n",
              "      <td>50.0</td>\n",
              "      <td>48.0</td>\n",
              "      <td>0.0</td>\n",
              "      <td>70.0</td>\n",
              "      <td>71.0</td>\n",
              "      <td>71.0</td>\n",
              "      <td>70.0</td>\n",
              "      <td>73.0</td>\n",
              "      <td>73.0</td>\n",
              "      <td>73.0</td>\n",
              "      <td>73.0</td>\n",
              "      <td>73.0</td>\n",
              "      <td>73.0</td>\n",
              "      <td>73.0</td>\n",
              "      <td>0.0</td>\n",
              "      <td>0.0</td>\n",
              "    </tr>\n",
              "    <tr>\n",
              "      <th>8</th>\n",
              "      <td>9.0</td>\n",
              "      <td>11.0</td>\n",
              "      <td>11.0</td>\n",
              "      <td>19.0</td>\n",
              "      <td>19.0</td>\n",
              "      <td>19.0</td>\n",
              "      <td>19.0</td>\n",
              "      <td>20.0</td>\n",
              "      <td>20.0</td>\n",
              "      <td>13.0</td>\n",
              "      <td>19.0</td>\n",
              "      <td>8.0</td>\n",
              "      <td>4.0</td>\n",
              "      <td>5.0</td>\n",
              "      <td>5.0</td>\n",
              "      <td>5.0</td>\n",
              "    </tr>\n",
              "    <tr>\n",
              "      <th>9</th>\n",
              "      <td>264.0</td>\n",
              "      <td>196.0</td>\n",
              "      <td>186.0</td>\n",
              "      <td>1.0</td>\n",
              "      <td>1.0</td>\n",
              "      <td>1.0</td>\n",
              "      <td>1.0</td>\n",
              "      <td>1.0</td>\n",
              "      <td>4710.0</td>\n",
              "      <td>4717.0</td>\n",
              "      <td>4843.0</td>\n",
              "      <td>0.0</td>\n",
              "      <td>0.0</td>\n",
              "      <td>0.0</td>\n",
              "      <td>0.0</td>\n",
              "      <td>0.0</td>\n",
              "    </tr>\n",
              "    <tr>\n",
              "      <th>10</th>\n",
              "      <td>146.0</td>\n",
              "      <td>146.0</td>\n",
              "      <td>135.0</td>\n",
              "      <td>152.0</td>\n",
              "      <td>149.0</td>\n",
              "      <td>148.0</td>\n",
              "      <td>149.0</td>\n",
              "      <td>149.0</td>\n",
              "      <td>458.0</td>\n",
              "      <td>60.0</td>\n",
              "      <td>75.0</td>\n",
              "      <td>352.0</td>\n",
              "      <td>292.0</td>\n",
              "      <td>299.0</td>\n",
              "      <td>327.0</td>\n",
              "      <td>400.0</td>\n",
              "    </tr>\n",
              "    <tr>\n",
              "      <th>11</th>\n",
              "      <td>5031.0</td>\n",
              "      <td>5775.0</td>\n",
              "      <td>7757.0</td>\n",
              "      <td>8256.0</td>\n",
              "      <td>12675.0</td>\n",
              "      <td>12762.0</td>\n",
              "      <td>13269.0</td>\n",
              "      <td>14269.0</td>\n",
              "      <td>14558.0</td>\n",
              "      <td>15551.0</td>\n",
              "      <td>16565.0</td>\n",
              "      <td>17216.0</td>\n",
              "      <td>17940.0</td>\n",
              "      <td>17868.0</td>\n",
              "      <td>18544.0</td>\n",
              "      <td>19274.0</td>\n",
              "    </tr>\n",
              "    <tr>\n",
              "      <th>12</th>\n",
              "      <td>14816.0</td>\n",
              "      <td>15126.0</td>\n",
              "      <td>39596.0</td>\n",
              "      <td>41031.0</td>\n",
              "      <td>38150.0</td>\n",
              "      <td>38453.0</td>\n",
              "      <td>39644.0</td>\n",
              "      <td>41142.0</td>\n",
              "      <td>42343.0</td>\n",
              "      <td>43591.0</td>\n",
              "      <td>45790.0</td>\n",
              "      <td>49133.0</td>\n",
              "      <td>52139.0</td>\n",
              "      <td>55855.0</td>\n",
              "      <td>60577.0</td>\n",
              "      <td>66153.0</td>\n",
              "    </tr>\n",
              "    <tr>\n",
              "      <th>13</th>\n",
              "      <td>811.0</td>\n",
              "      <td>753.0</td>\n",
              "      <td>772.0</td>\n",
              "      <td>843.0</td>\n",
              "      <td>977.0</td>\n",
              "      <td>1000.0</td>\n",
              "      <td>1021.0</td>\n",
              "      <td>1050.0</td>\n",
              "      <td>1069.0</td>\n",
              "      <td>1075.0</td>\n",
              "      <td>1084.0</td>\n",
              "      <td>812.0</td>\n",
              "      <td>959.0</td>\n",
              "      <td>981.0</td>\n",
              "      <td>1007.0</td>\n",
              "      <td>1066.0</td>\n",
              "    </tr>\n",
              "    <tr>\n",
              "      <th>14</th>\n",
              "      <td>6105.0</td>\n",
              "      <td>6320.0</td>\n",
              "      <td>6320.0</td>\n",
              "      <td>6682.0</td>\n",
              "      <td>7208.0</td>\n",
              "      <td>7242.0</td>\n",
              "      <td>7725.0</td>\n",
              "      <td>6520.0</td>\n",
              "      <td>6715.0</td>\n",
              "      <td>6649.0</td>\n",
              "      <td>4958.0</td>\n",
              "      <td>2309.0</td>\n",
              "      <td>2305.0</td>\n",
              "      <td>2334.0</td>\n",
              "      <td>2349.0</td>\n",
              "      <td>2216.0</td>\n",
              "    </tr>\n",
              "    <tr>\n",
              "      <th>15</th>\n",
              "      <td>6980.0</td>\n",
              "      <td>6970.0</td>\n",
              "      <td>7110.0</td>\n",
              "      <td>7130.0</td>\n",
              "      <td>3995.0</td>\n",
              "      <td>3925.0</td>\n",
              "      <td>4153.0</td>\n",
              "      <td>4313.0</td>\n",
              "      <td>4239.0</td>\n",
              "      <td>4445.0</td>\n",
              "      <td>4663.0</td>\n",
              "      <td>4833.0</td>\n",
              "      <td>5103.0</td>\n",
              "      <td>5531.0</td>\n",
              "      <td>6379.0</td>\n",
              "      <td>6928.0</td>\n",
              "    </tr>\n",
              "    <tr>\n",
              "      <th>16</th>\n",
              "      <td>17719.0</td>\n",
              "      <td>18348.0</td>\n",
              "      <td>19498.0</td>\n",
              "      <td>20181.0</td>\n",
              "      <td>23688.0</td>\n",
              "      <td>29094.0</td>\n",
              "      <td>30674.0</td>\n",
              "      <td>34699.0</td>\n",
              "      <td>36773.0</td>\n",
              "      <td>41301.0</td>\n",
              "      <td>43968.0</td>\n",
              "      <td>47660.0</td>\n",
              "      <td>50671.0</td>\n",
              "      <td>55661.0</td>\n",
              "      <td>59994.0</td>\n",
              "      <td>66511.0</td>\n",
              "    </tr>\n",
              "    <tr>\n",
              "      <th>17</th>\n",
              "      <td>11974.0</td>\n",
              "      <td>11956.0</td>\n",
              "      <td>11987.0</td>\n",
              "      <td>13831.0</td>\n",
              "      <td>15095.0</td>\n",
              "      <td>16330.0</td>\n",
              "      <td>16856.0</td>\n",
              "      <td>17049.0</td>\n",
              "      <td>22375.0</td>\n",
              "      <td>24769.0</td>\n",
              "      <td>25036.0</td>\n",
              "      <td>24425.0</td>\n",
              "      <td>23444.0</td>\n",
              "      <td>23481.0</td>\n",
              "      <td>22906.0</td>\n",
              "      <td>21845.0</td>\n",
              "    </tr>\n",
              "    <tr>\n",
              "      <th>18</th>\n",
              "      <td>120.0</td>\n",
              "      <td>124.0</td>\n",
              "      <td>127.0</td>\n",
              "      <td>128.0</td>\n",
              "      <td>135.0</td>\n",
              "      <td>138.0</td>\n",
              "      <td>138.0</td>\n",
              "      <td>140.0</td>\n",
              "      <td>140.0</td>\n",
              "      <td>129.0</td>\n",
              "      <td>126.0</td>\n",
              "      <td>144.0</td>\n",
              "      <td>147.0</td>\n",
              "      <td>142.0</td>\n",
              "      <td>142.0</td>\n",
              "      <td>153.0</td>\n",
              "    </tr>\n",
              "    <tr>\n",
              "      <th>19</th>\n",
              "      <td>9023.0</td>\n",
              "      <td>9414.0</td>\n",
              "      <td>9518.0</td>\n",
              "      <td>9747.0</td>\n",
              "      <td>6713.0</td>\n",
              "      <td>7075.0</td>\n",
              "      <td>7577.0</td>\n",
              "      <td>7972.0</td>\n",
              "      <td>8711.0</td>\n",
              "      <td>9671.0</td>\n",
              "      <td>11776.0</td>\n",
              "      <td>14414.0</td>\n",
              "      <td>16940.0</td>\n",
              "      <td>19422.0</td>\n",
              "      <td>21432.0</td>\n",
              "      <td>23794.0</td>\n",
              "    </tr>\n",
              "  </tbody>\n",
              "</table>\n",
              "</div>\n",
              "      <button class=\"colab-df-convert\" onclick=\"convertToInteractive('df-ca81b629-0451-46dc-a23b-720b59434be3')\"\n",
              "              title=\"Convert this dataframe to an interactive table.\"\n",
              "              style=\"display:none;\">\n",
              "        \n",
              "  <svg xmlns=\"http://www.w3.org/2000/svg\" height=\"24px\"viewBox=\"0 0 24 24\"\n",
              "       width=\"24px\">\n",
              "    <path d=\"M0 0h24v24H0V0z\" fill=\"none\"/>\n",
              "    <path d=\"M18.56 5.44l.94 2.06.94-2.06 2.06-.94-2.06-.94-.94-2.06-.94 2.06-2.06.94zm-11 1L8.5 8.5l.94-2.06 2.06-.94-2.06-.94L8.5 2.5l-.94 2.06-2.06.94zm10 10l.94 2.06.94-2.06 2.06-.94-2.06-.94-.94-2.06-.94 2.06-2.06.94z\"/><path d=\"M17.41 7.96l-1.37-1.37c-.4-.4-.92-.59-1.43-.59-.52 0-1.04.2-1.43.59L10.3 9.45l-7.72 7.72c-.78.78-.78 2.05 0 2.83L4 21.41c.39.39.9.59 1.41.59.51 0 1.02-.2 1.41-.59l7.78-7.78 2.81-2.81c.8-.78.8-2.07 0-2.86zM5.41 20L4 18.59l7.72-7.72 1.47 1.35L5.41 20z\"/>\n",
              "  </svg>\n",
              "      </button>\n",
              "      \n",
              "  <style>\n",
              "    .colab-df-container {\n",
              "      display:flex;\n",
              "      flex-wrap:wrap;\n",
              "      gap: 12px;\n",
              "    }\n",
              "\n",
              "    .colab-df-convert {\n",
              "      background-color: #E8F0FE;\n",
              "      border: none;\n",
              "      border-radius: 50%;\n",
              "      cursor: pointer;\n",
              "      display: none;\n",
              "      fill: #1967D2;\n",
              "      height: 32px;\n",
              "      padding: 0 0 0 0;\n",
              "      width: 32px;\n",
              "    }\n",
              "\n",
              "    .colab-df-convert:hover {\n",
              "      background-color: #E2EBFA;\n",
              "      box-shadow: 0px 1px 2px rgba(60, 64, 67, 0.3), 0px 1px 3px 1px rgba(60, 64, 67, 0.15);\n",
              "      fill: #174EA6;\n",
              "    }\n",
              "\n",
              "    [theme=dark] .colab-df-convert {\n",
              "      background-color: #3B4455;\n",
              "      fill: #D2E3FC;\n",
              "    }\n",
              "\n",
              "    [theme=dark] .colab-df-convert:hover {\n",
              "      background-color: #434B5C;\n",
              "      box-shadow: 0px 1px 3px 1px rgba(0, 0, 0, 0.15);\n",
              "      filter: drop-shadow(0px 1px 2px rgba(0, 0, 0, 0.3));\n",
              "      fill: #FFFFFF;\n",
              "    }\n",
              "  </style>\n",
              "\n",
              "      <script>\n",
              "        const buttonEl =\n",
              "          document.querySelector('#df-ca81b629-0451-46dc-a23b-720b59434be3 button.colab-df-convert');\n",
              "        buttonEl.style.display =\n",
              "          google.colab.kernel.accessAllowed ? 'block' : 'none';\n",
              "\n",
              "        async function convertToInteractive(key) {\n",
              "          const element = document.querySelector('#df-ca81b629-0451-46dc-a23b-720b59434be3');\n",
              "          const dataTable =\n",
              "            await google.colab.kernel.invokeFunction('convertToInteractive',\n",
              "                                                     [key], {});\n",
              "          if (!dataTable) return;\n",
              "\n",
              "          const docLinkHtml = 'Like what you see? Visit the ' +\n",
              "            '<a target=\"_blank\" href=https://colab.research.google.com/notebooks/data_table.ipynb>data table notebook</a>'\n",
              "            + ' to learn more about interactive tables.';\n",
              "          element.innerHTML = '';\n",
              "          dataTable['output_type'] = 'display_data';\n",
              "          await google.colab.output.renderOutput(dataTable, element);\n",
              "          const docLink = document.createElement('div');\n",
              "          docLink.innerHTML = docLinkHtml;\n",
              "          element.appendChild(docLink);\n",
              "        }\n",
              "      </script>\n",
              "    </div>\n",
              "  </div>\n",
              "  "
            ]
          },
          "metadata": {},
          "execution_count": 178
        }
      ]
    },
    {
      "cell_type": "code",
      "source": [
        "plt.boxplot(data['2005-06'])\n",
        "plt.title('Box plot of 2005-06')"
      ],
      "metadata": {
        "colab": {
          "base_uri": "https://localhost:8080/",
          "height": 469
        },
        "outputId": "dd7161cc-8ca1-4410-b145-d40873d6f6ca",
        "id": "rsT94ZFg6626"
      },
      "execution_count": null,
      "outputs": [
        {
          "output_type": "execute_result",
          "data": {
            "text/plain": [
              "Text(0.5, 1.0, 'Box plot of 2005-06')"
            ]
          },
          "metadata": {},
          "execution_count": 179
        },
        {
          "output_type": "display_data",
          "data": {
            "text/plain": [
              "<Figure size 640x480 with 1 Axes>"
            ],
            "image/png": "[encoded data removed]"
          },
          "metadata": {}
        }
      ]
    }
  ]
}