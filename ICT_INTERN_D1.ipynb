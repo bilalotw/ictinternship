{
  "nbformat": 4,
  "nbformat_minor": 0,
  "metadata": {
    "colab": {
      "provenance": [],
      "authorship_tag": "ABX9TyM9ldDyuFx7O3n5fa5FWyqh",
      "include_colab_link": true
    },
    "kernelspec": {
      "name": "python3",
      "display_name": "Python 3"
    },
    "language_info": {
      "name": "python"
    }
  },
  "cells": [
    {
      "cell_type": "markdown",
      "metadata": {
        "id": "view-in-github",
        "colab_type": "text"
      },
      "source": [
        "<a href=\"https://colab.research.google.com/github/bilalotw/ictinternship/blob/main/ICT_INTERN_D1.ipynb\" target=\"_parent\"><img src=\"https://colab.research.google.com/assets/colab-badge.svg\" alt=\"Open In Colab\"/></a>"
      ]
    },
    {
      "cell_type": "code",
      "execution_count": null,
      "metadata": {
        "colab": {
          "base_uri": "https://localhost:8080/"
        },
        "id": "CIsASDSmBh0b",
        "outputId": "47706b1b-71d9-4953-9dcc-f2cc096448dd"
      },
      "outputs": [
        {
          "output_type": "stream",
          "name": "stdout",
          "text": [
            "bilal\n",
            "muhammad\n",
            "amina\n"
          ]
        }
      ],
      "source": [
        "val=['amina','muhammad','bilal']\n",
        "reverse=[]\n",
        "for i in range(len(val)) :\n",
        "    reverse.append(val[len(val) - i - 1])\n",
        "\n",
        "for i in range(len(reverse)):\n",
        "  print(reverse[i]) "
      ]
    },
    {
      "cell_type": "code",
      "source": [
        "n=int(input('Enter the number:- '))\n",
        "for i in range(n):\n",
        "  for j in range(n):\n",
        "    print('* ',end='')\n",
        "  print('')\n"
      ],
      "metadata": {
        "colab": {
          "base_uri": "https://localhost:8080/"
        },
        "id": "w6zB5uC3IDsV",
        "outputId": "f95cd4aa-b2e1-486f-d501-d5f70a5bc8a2"
      },
      "execution_count": null,
      "outputs": [
        {
          "output_type": "stream",
          "name": "stdout",
          "text": [
            "Enter the number:- 5\n",
            "* * * * * \n",
            "* * * * * \n",
            "* * * * * \n",
            "* * * * * \n",
            "* * * * * \n"
          ]
        }
      ]
    },
    {
      "cell_type": "code",
      "source": [
        "s='python'\n",
        "print(s[0])\n",
        "print(s[-len(s)])\n",
        "print(s[0:4])\n",
        "print(s[-len(s):-2])\n"
      ],
      "metadata": {
        "colab": {
          "base_uri": "https://localhost:8080/"
        },
        "id": "NN2zx52NTRyK",
        "outputId": "8f91efd3-a9d1-486a-9b0a-9ccf6a91064c"
      },
      "execution_count": null,
      "outputs": [
        {
          "output_type": "stream",
          "name": "stdout",
          "text": [
            "p\n",
            "p\n",
            "pyth\n",
            "pyth\n"
          ]
        }
      ]
    },
    {
      "cell_type": "code",
      "source": [
        "p=[1,2,3,4,5]\n",
        "for p in  p:\n",
        "  print(p)"
      ],
      "metadata": {
        "colab": {
          "base_uri": "https://localhost:8080/"
        },
        "id": "49YUZ8xFYyvg",
        "outputId": "9987ade6-69c5-49d9-a7cb-49ed9356ca13"
      },
      "execution_count": null,
      "outputs": [
        {
          "output_type": "stream",
          "name": "stdout",
          "text": [
            "1\n",
            "2\n",
            "3\n",
            "4\n",
            "5\n"
          ]
        }
      ]
    },
    {
      "cell_type": "code",
      "source": [
        "a=1\n",
        "while a<10:\n",
        "  print(a)\n",
        "  a+=2"
      ],
      "metadata": {
        "colab": {
          "base_uri": "https://localhost:8080/"
        },
        "id": "Dl8t97qUtfRH",
        "outputId": "c585e07d-c494-4a7e-95e8-ce673a9d35c5"
      },
      "execution_count": null,
      "outputs": [
        {
          "output_type": "stream",
          "name": "stdout",
          "text": [
            "1\n",
            "3\n",
            "5\n",
            "7\n",
            "9\n"
          ]
        }
      ]
    },
    {
      "cell_type": "code",
      "source": [
        "'''calculator'''\n",
        "\n",
        "a=int(input('Enter the number1:- '))\n",
        "b=int(input('Enter the number2:- '))\n",
        "q=int(input('Enter the choice sum =1, sub =2, mul =3, div=4:- '))\n",
        "if q==1:\n",
        "  s=a+b\n",
        "  print(s)\n",
        "elif q==2:\n",
        "  s=a-b\n",
        "  print(s)\n",
        "elif q==3:\n",
        "  s=a*b\n",
        "  print(s)\n",
        "elif q==4:\n",
        "  if a==0:\n",
        "    print(\"not possible\")\n",
        "  else:\n",
        "     s=b/a                                  \n",
        "     print(s)\n",
        "else:\n",
        "  print(\"error\")\n",
        "\n",
        "\n",
        "  \n",
        "\n"
      ],
      "metadata": {
        "colab": {
          "base_uri": "https://localhost:8080/"
        },
        "id": "e-bGjLIfugWG",
        "outputId": "9e26bdf0-6ea7-4e11-a99d-a0815b897227"
      },
      "execution_count": null,
      "outputs": [
        {
          "output_type": "stream",
          "name": "stdout",
          "text": [
            "Enter the number1:- 5\n",
            "Enter the number2:- 5\n",
            "Enter the choice sum =1, sub =2, mul =3, div=4:- 2\n",
            "0\n"
          ]
        }
      ]
    },
    {
      "cell_type": "code",
      "source": [
        "'''prime number'''\n",
        "\n",
        "a=int(input('Enter the number:- '))\n",
        "if a==0:\n",
        "    print(a,\"is not prime\")\n",
        "elif a==1:\n",
        "  print(a,\"is not prime\")        \n",
        "else:\n",
        "    for i in range(2,a):\n",
        "        if a%i==0:\n",
        "          print(a,'is not prime')\n",
        "          flag=0\n",
        "          break\n",
        "        else:\n",
        "          flag=1\n",
        "    if flag==1:\n",
        "      print(a,\"is prime\")    \n"
      ],
      "metadata": {
        "colab": {
          "base_uri": "https://localhost:8080/"
        },
        "id": "wGTpWr3q1bla",
        "outputId": "a6a58689-5130-4e5c-9681-fa5c68fdbca2"
      },
      "execution_count": null,
      "outputs": [
        {
          "output_type": "stream",
          "name": "stdout",
          "text": [
            "Enter the number:- 15\n",
            "15 is not prime\n"
          ]
        }
      ]
    },
    {
      "cell_type": "code",
      "source": [
        "'''Leap year'''\n",
        "a=int(input('Enter the year:- '))  \n",
        "if a%400==0 and a%100!=0 and a%4==0:\n",
        "  print(\"leap year\")   \n",
        "else:\n",
        "  print(\"not a leap year\") "
      ],
      "metadata": {
        "colab": {
          "base_uri": "https://localhost:8080/"
        },
        "id": "eJCxyDXS5xR7",
        "outputId": "7e799ca0-8e38-45b0-935d-1683af88af37"
      },
      "execution_count": null,
      "outputs": [
        {
          "output_type": "stream",
          "name": "stdout",
          "text": [
            "Enter the year:- 2020\n",
            "not a leap year\n"
          ]
        }
      ]
    },
    {
      "cell_type": "code",
      "source": [
        "'''sum of n numbers'''\n",
        "n=int(input('Enter number:- ')) \n",
        "s=0 \n",
        "for i in  range(0,n+1):\n",
        "  s=s+i\n",
        "print(\"sum =\",s)"
      ],
      "metadata": {
        "colab": {
          "base_uri": "https://localhost:8080/"
        },
        "id": "aeubmzaA-fyw",
        "outputId": "4929678a-91bb-449d-e2c3-381eb22267b9"
      },
      "execution_count": null,
      "outputs": [
        {
          "output_type": "stream",
          "name": "stdout",
          "text": [
            "Enter number:- 10\n",
            "sum = 55\n"
          ]
        }
      ]
    },
    {
      "cell_type": "code",
      "source": [
        "'''factorial'''\n",
        "n=int(input('Enter number:- ')) \n",
        "s=1 \n",
        "for i in  range(1,n+1):\n",
        "  s=s*i\n",
        "print(\"sum =\",s)"
      ],
      "metadata": {
        "colab": {
          "base_uri": "https://localhost:8080/"
        },
        "id": "4R6fmsCO_3kj",
        "outputId": "5930baaa-e6f4-4787-a42f-67a519fa10b8"
      },
      "execution_count": null,
      "outputs": [
        {
          "output_type": "stream",
          "name": "stdout",
          "text": [
            "Enter number:- 5\n",
            "sum = 120\n"
          ]
        }
      ]
    },
    {
      "cell_type": "code",
      "source": [
        "#FUNCTION\n",
        "def greeting():\n",
        "  print(\"Hello\")\n",
        "greeting()"
      ],
      "metadata": {
        "colab": {
          "base_uri": "https://localhost:8080/"
        },
        "id": "lWWZbG19FM7Q",
        "outputId": "68ed70b9-fa68-4c1e-e930-0e81e081071c"
      },
      "execution_count": null,
      "outputs": [
        {
          "output_type": "stream",
          "name": "stdout",
          "text": [
            "Hello\n"
          ]
        }
      ]
    },
    {
      "cell_type": "code",
      "source": [
        "sum=0\n",
        "def add(num1, num2):\n",
        "  sum=num1+num2\n",
        "  print(sum)\n",
        "add(1,2)\n"
      ],
      "metadata": {
        "colab": {
          "base_uri": "https://localhost:8080/"
        },
        "id": "TkkcPn-CF1Hu",
        "outputId": "5e52ecc7-5e71-4600-c9f2-c15a6766ec32"
      },
      "execution_count": null,
      "outputs": [
        {
          "output_type": "stream",
          "name": "stdout",
          "text": [
            "3\n"
          ]
        }
      ]
    },
    {
      "cell_type": "code",
      "source": [
        "def square(num1):\n",
        "  sum=num1*num1\n",
        "  print(sum)\n",
        "a=int(input('Enter the number:- '))\n",
        "square(a)\n"
      ],
      "metadata": {
        "colab": {
          "base_uri": "https://localhost:8080/"
        },
        "id": "2sH01sJ3ITZa",
        "outputId": "738f8306-3e72-446f-fc00-5d89a0adf08d"
      },
      "execution_count": null,
      "outputs": [
        {
          "output_type": "stream",
          "name": "stdout",
          "text": [
            "Enter the number:- 3\n",
            "9\n"
          ]
        }
      ]
    },
    {
      "cell_type": "code",
      "source": [
        "#question number 1\n",
        "numbers = [1, 2, 3, 4, 5]\n",
        "sum = 0\n",
        "for num in numbers:\n",
        "    print(num)\n",
        "    sum += num\n",
        "print(\"The sum of the numbers is:\", sum)\n"
      ],
      "metadata": {
        "id": "ZDWRsWZoPiHC",
        "colab": {
          "base_uri": "https://localhost:8080/"
        },
        "outputId": "3b79e1cb-8155-4838-d9f2-371d35279dc9"
      },
      "execution_count": null,
      "outputs": [
        {
          "output_type": "stream",
          "name": "stdout",
          "text": [
            "1\n",
            "2\n",
            "3\n",
            "4\n",
            "5\n",
            "The sum of the numbers is: 15\n"
          ]
        }
      ]
    },
    {
      "cell_type": "code",
      "source": [
        "#question number 2\n",
        "a=input('Enter the Sentence:- ')\n",
        "print(\"The String is\",a)\n",
        "p=len(a)\n",
        "print(\"the length of the string is\",p)\n",
        "if p % 2 == 0:\n",
        "    print(a[0:p//2])\n",
        "else:\n",
        "    print(\"the first half is: \",a[0:(p+1)//2])"
      ],
      "metadata": {
        "colab": {
          "base_uri": "https://localhost:8080/"
        },
        "id": "5qhvFFHyIwj4",
        "outputId": "1dd0aef2-9d73-476c-e0ec-c0264637c6b6"
      },
      "execution_count": null,
      "outputs": [
        {
          "output_type": "stream",
          "name": "stdout",
          "text": [
            "Enter the Sentence:- Hello World\n",
            "The String is Hello World\n",
            "the length of the string is 11\n",
            "the first half is:  Hello \n"
          ]
        }
      ]
    },
    {
      "cell_type": "code",
      "source": [
        "#question number 3\n",
        "a=input('Enter the Sentence1:- ')\n",
        "b=input('Enter the Sentence2:- ')\n",
        "c=a+b\n",
        "print(c)\n",
        "print(len(c))"
      ],
      "metadata": {
        "colab": {
          "base_uri": "https://localhost:8080/"
        },
        "id": "pkr5bCZSM--H",
        "outputId": "25b96b11-40be-481b-e8e1-0d154d1d7bbb"
      },
      "execution_count": null,
      "outputs": [
        {
          "output_type": "stream",
          "name": "stdout",
          "text": [
            "Enter the Sentence1:- hello\n",
            "Enter the Sentence2:-  world\n",
            "hello world\n",
            "11\n"
          ]
        }
      ]
    },
    {
      "cell_type": "code",
      "source": [
        "#question number 4\n",
        "t = (78, 45, 32, 19, 82, 77, 40, 39)\n",
        "print(\"Original tuple:\", t)\n",
        "m = t[0:2] + (100,) + t[3:len(t)]\n",
        "print(\"Modified tuple:\", m)"
      ],
      "metadata": {
        "colab": {
          "base_uri": "https://localhost:8080/"
        },
        "id": "uFz-iimJO-U7",
        "outputId": "82f31cb2-7d8a-4d74-e9e0-b160c3e31010"
      },
      "execution_count": null,
      "outputs": [
        {
          "output_type": "stream",
          "name": "stdout",
          "text": [
            "Original tuple: (78, 45, 32, 19, 82, 77, 40, 39)\n",
            "Modified tuple: (78, 45, 100, 19, 82, 77, 40, 39)\n"
          ]
        }
      ]
    },
    {
      "cell_type": "code",
      "source": [
        "#question number 5\n",
        "lstA = [19, 32, 10, 55, 31, 32, 94, 29, 10, 65, 77, 40, 40]\n",
        "# (d) modify the value at index 9 to 300\n",
        "lstA[9] = 300\n",
        "print(\"List after modifying value at index 9 to 300:\", lstA)\n",
        "\n",
        "# (a) delete first occurrence of 32\n",
        "for i in range(len(lstA)):\n",
        "    if lstA[i] == 32:\n",
        "        del lstA[i]\n",
        "        break\n",
        "\n",
        "print(\"List after deleting first occurrence of 32:\", lstA)\n",
        "# (b) delete all occurrences of 40\n",
        "while 40 in lstA:\n",
        "  lstA.remove(40)\n",
        "print(\"List after deleting all occurrences of 40:\", lstA)\n",
        "\n",
        "# (c) delete value at index 5\n",
        "del lstA[5]\n",
        "print(\"List after deleting value at index 5:\", lstA)\n",
        "\n",
        "\n",
        "# (e) add 200 at index 2\n",
        "lstA = lstA[:2] + [200] + lstA[2:]\n",
        "print(\"List after adding 200 at index 2:\", lstA)\n",
        "\n",
        "# (f) print the final list with its length, maximum value, and sum of all elements\n",
        "print(\"Final list:\", lstA)\n",
        "print(\"Length of list:\", len(lstA))\n",
        "p=lstA[1]\n",
        "for i in range(2,len(lstA)):\n",
        "    if p<lstA[i]:\n",
        "      p=lstA[i]\n",
        "\n",
        "print(\"Maximum value of list:\", p)\n",
        "s=0\n",
        "for i in range(len(lstA)):\n",
        "  s=s+lstA[i]\n",
        "print(\"Sum of all elements in list:\",s)\n"
      ],
      "metadata": {
        "colab": {
          "base_uri": "https://localhost:8080/"
        },
        "id": "mwdU0P0YQ43r",
        "outputId": "a0d1c098-bfcd-4236-8a5b-d6c2a17c05b9"
      },
      "execution_count": null,
      "outputs": [
        {
          "output_type": "stream",
          "name": "stdout",
          "text": [
            "List after modifying value at index 9 to 300: [19, 32, 10, 55, 31, 32, 94, 29, 10, 300, 77, 40, 40]\n",
            "List after deleting first occurrence of 32: [19, 10, 55, 31, 32, 94, 29, 10, 300, 77, 40, 40]\n",
            "List after deleting all occurrences of 40: [19, 10, 55, 31, 32, 94, 29, 10, 300, 77]\n",
            "List after deleting value at index 5: [19, 10, 55, 31, 32, 29, 10, 300, 77]\n",
            "List after adding 200 at index 2: [19, 10, 200, 55, 31, 32, 29, 10, 300, 77]\n",
            "Final list: [19, 10, 200, 55, 31, 32, 29, 10, 300, 77]\n",
            "Length of list: 10\n",
            "Maximum value of list: 300\n",
            "Sum of all elements in list: 763\n"
          ]
        }
      ]
    }
  ]
}